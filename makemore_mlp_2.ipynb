{
 "cells": [
  {
   "cell_type": "code",
   "execution_count": 1,
   "metadata": {},
   "outputs": [],
   "source": [
    "import torch\n",
    "import torch.nn.functional as F\n",
    "import matplotlib.pyplot as plt\n",
    "%matplotlib inline\n",
    "\n",
    "from helpers.makemore_helpers import make_char2idx_map, build_dataset\n",
    "\n",
    "words = open(r'data\\names.txt','r').read().splitlines()\n",
    "char2idx = make_char2idx_map(words)\n",
    "idx2char = {v: k for k, v in char2idx.items()}\n",
    "\n",
    "block_size = 3"
   ]
  },
  {
   "cell_type": "code",
   "execution_count": 2,
   "metadata": {},
   "outputs": [
    {
     "name": "stdout",
     "output_type": "stream",
     "text": [
      "Sizes: 182778 22633 22735\n",
      "Shapes: torch.Size([182778, 3]) torch.Size([182778])\n"
     ]
    }
   ],
   "source": [
    "train_count = int(len(words) * 0.8)\n",
    "n_1 = int(len(words) * 0.9)\n",
    "\n",
    "x_train, y_train = build_dataset(words[:train_count], block_size, char2idx)\n",
    "x_val, y_val = build_dataset(words[train_count:n_1], block_size, char2idx)\n",
    "x_test, y_test = build_dataset(words[n_1:], block_size, char2idx)\n",
    "\n",
    "total_train = len(x_train)\n",
    "total_val = len(x_val)\n",
    "total_test = len(x_test)\n",
    "\n",
    "print(f\"Sizes:\", total_train, total_val, total_test)\n",
    "print(\"Shapes:\", x_train.shape, y_train.shape)"
   ]
  },
  {
   "cell_type": "code",
   "execution_count": 3,
   "metadata": {},
   "outputs": [
    {
     "name": "stdout",
     "output_type": "stream",
     "text": [
      "Ideal loss in the beginning: tensor(3.2958)\n"
     ]
    },
    {
     "data": {
      "text/plain": [
       "(tensor([ 11.2061, -15.8917,  15.0684, -20.6107]),\n",
       " tensor([2.0587e-02, 3.5088e-14, 9.7941e-01, 3.1313e-16]),\n",
       " tensor(0.0208))"
      ]
     },
     "execution_count": 3,
     "metadata": {},
     "output_type": "execute_result"
    }
   ],
   "source": [
    "# How to initialize the weights intelligently, so that we have small loss at the beginning?\n",
    "\n",
    "# For our example, each letter should equally likely at the beginning ( uniform distribution)\n",
    "# But initializing the weights randomly would cause the network to be confidently wrong at the beginning\n",
    "# The ideal loss at the beginning should be:\n",
    "print(\"Ideal loss in the beginning:\",-torch.tensor(1/27).log())\n",
    "\n",
    "\n",
    "# Example: We want logits to be ~0.0\n",
    "# logits = torch.tensor([0.0,0.0,0.0,0.0])\n",
    "logits = torch.randn(4) * 10\n",
    "probs = F.softmax(logits, dim=0)\n",
    "loss_for_3nd_idx = -probs[2].log().mean()\n",
    "logits, probs, loss_for_3nd_idx\n"
   ]
  },
  {
   "cell_type": "code",
   "execution_count": 55,
   "metadata": {},
   "outputs": [],
   "source": [
    "# Set up parameters\n",
    "rand_gen = torch.Generator().manual_seed(42)\n",
    "embedding_size = 10\n",
    "n_hidden = 200\n",
    "vocab_size = len(char2idx)\n",
    "\n",
    "embedding_matrix = torch.randn((vocab_size, 10), generator=rand_gen)\n",
    "# Because we tanh to remain in the active region\n",
    "W1 = torch.randn((embedding_size * block_size, n_hidden), generator=rand_gen) *  ( (5/3) / (embedding_size * block_size)**0.5) # this is kaiming initialization\n",
    "# b1 = torch.randn(n_hidden, generator=rand_gen) * 0.001 # Because we tanh to remain in the active region\n",
    "W2 = torch.randn((n_hidden, vocab_size), generator=rand_gen) * 0.01 # Because we want smaller logits\n",
    "b2 = torch.randn(vocab_size, generator=rand_gen) * 0 # Because we want smaller logits\n",
    "\n",
    "batch_norm_gain = torch.ones((1,n_hidden))\n",
    "batch_norm_bias = torch.zeros((1,n_hidden))\n",
    "\n",
    "mean_running = torch.zeros((1,n_hidden))\n",
    "std_running = torch.ones((1,n_hidden))\n",
    "\n",
    "params = [embedding_matrix, W1, W2, b2, batch_norm_gain, batch_norm_bias]\n",
    "for p in params:\n",
    "    p.requires_grad = True"
   ]
  },
  {
   "cell_type": "code",
   "execution_count": 5,
   "metadata": {},
   "outputs": [
    {
     "name": "stdout",
     "output_type": "stream",
     "text": [
      "tensor(0.0042) tensor(0.9913)\n",
      "tensor(-0.0052) tensor(3.1419)\n"
     ]
    },
    {
     "data": {
      "text/plain": [
       "tensor(0.1997)"
      ]
     },
     "execution_count": 5,
     "metadata": {},
     "output_type": "execute_result"
    },
    {
     "data": {
      "image/png": "[encoded data removed]",
      "text/plain": [
       "<Figure size 2000x500 with 2 Axes>"
      ]
     },
     "metadata": {},
     "output_type": "display_data"
    }
   ],
   "source": [
    "x = torch.randn(1000,10) # random gaussian data\n",
    "w = torch.randn(10,200) # random gaussian data\n",
    "\n",
    "y = x @ w\n",
    "print(x.mean(), x.std())\n",
    "print(y.mean(), y.std()) # we want std of y to be 1\n",
    "\n",
    "plt.figure(figsize=(20,5))\n",
    "plt.subplot(121)\n",
    "plt.hist(x.view(-1).tolist(), bins=50, density=True)\n",
    "plt.subplot(122)\n",
    "plt.hist(y.view(-1).tolist(), bins=50, density=True)\n",
    "\n",
    "# For gausian dist, whatever number your multiply it by becomes the std\n",
    "# For example:\n",
    "(torch.randn(10000) * 0.2).std()"
   ]
  },
  {
   "cell_type": "code",
   "execution_count": 56,
   "metadata": {},
   "outputs": [
    {
     "name": "stdout",
     "output_type": "stream",
     "text": [
      "Step 0, loss 3.3205\n",
      "Step 10000, loss 2.0718\n",
      "Step 20000, loss 2.3563\n",
      "Step 30000, loss 1.7852\n",
      "Step 40000, loss 1.9793\n",
      "Step 50000, loss 1.9948\n",
      "Step 60000, loss 2.0577\n",
      "Step 70000, loss 2.3441\n",
      "Step 80000, loss 1.9885\n",
      "Step 90000, loss 2.1005\n",
      "Step 100000, loss 2.2134\n",
      "Step 110000, loss 2.0647\n",
      "Step 120000, loss 1.6815\n",
      "Step 130000, loss 2.0458\n",
      "Step 140000, loss 1.7594\n",
      "Step 150000, loss 1.7827\n",
      "Step 160000, loss 2.0774\n",
      "Step 170000, loss 1.9061\n",
      "Step 180000, loss 2.1826\n",
      "Step 190000, loss 2.0523\n",
      "Final loss: 2.0332083702087402\n"
     ]
    }
   ],
   "source": [
    "total_steps = 200_000\n",
    "batch_size = 64\n",
    "losses = []\n",
    "\n",
    "for i in range(total_steps):\n",
    "    # create mini-batch\n",
    "    indices = torch.randint(0, total_train, (batch_size,))\n",
    "    xs, ys = x_train[indices], y_train[indices]\n",
    "\n",
    "    embedding = embedding_matrix[xs]\n",
    "\n",
    "    # Linear layer\n",
    "    pre_activation_1 = embedding.view(-1,embedding_size * block_size) @ W1 #+ b1\n",
    "\n",
    "    # Batch normalization\n",
    "    mean = pre_activation_1.mean(dim=0, keepdim=True)\n",
    "    std = pre_activation_1.std(dim=0, keepdim=True)\n",
    "    pre_activation_1 = (pre_activation_1 - mean) / std\n",
    "    pre_activation_1 = pre_activation_1 * batch_norm_gain + batch_norm_bias\n",
    "\n",
    "    # Activation\n",
    "    activation_1 = torch.tanh(pre_activation_1)\n",
    "    logits = activation_1 @ W2 + b2\n",
    "\n",
    "    # Loss\n",
    "    loss = F.cross_entropy(logits, ys)\n",
    "\n",
    "\n",
    "    with torch.no_grad():\n",
    "        mean_running = mean_running * 0.99 + mean * 0.01\n",
    "        std_running = std_running * 0.99 + std * 0.01\n",
    "\n",
    "    # Backprop\n",
    "    for p in params:\n",
    "        p.grad = None\n",
    "\n",
    "    loss.backward(retain_graph=True)\n",
    "\n",
    "    learning_rate = 0.1 if i < 100_000 else 0.01\n",
    "    for p in params:\n",
    "        p.data -= learning_rate * p.grad\n",
    "\n",
    "    losses.append(loss.item())\n",
    "    if i % 10000 == 0:\n",
    "        print(f\"Step {i}, loss {loss.item():.4f}\")\n",
    "\n",
    "    # break\n",
    "print(\"Final loss:\", loss.item())\n",
    "\n"
   ]
  },
  {
   "cell_type": "code",
   "execution_count": 24,
   "metadata": {},
   "outputs": [
    {
     "data": {
      "text/plain": [
       "(array([1392.,  570.,  431.,  359.,  299.,  284.,  242.,  230.,  186.,\n",
       "         191.,  165.,  187.,  187.,  158.,  161.,  130.,  145.,  157.,\n",
       "         146.,  138.,  155.,  155.,  125.,  117.,  136.,  138.,  148.,\n",
       "         150.,  107.,  128.,  159.,  130.,  158.,  145.,  164.,  152.,\n",
       "         174.,  154.,  160.,  150.,  227.,  205.,  217.,  211.,  248.,\n",
       "         311.,  357.,  407.,  559., 1395.]),\n",
       " array([-9.99998271e-01, -9.59998463e-01, -9.19998655e-01, -8.79998847e-01,\n",
       "        -8.39999039e-01, -7.99999231e-01, -7.59999423e-01, -7.19999615e-01,\n",
       "        -6.79999807e-01, -6.39999999e-01, -6.00000191e-01, -5.60000383e-01,\n",
       "        -5.20000575e-01, -4.80000767e-01, -4.40000958e-01, -4.00001150e-01,\n",
       "        -3.60001342e-01, -3.20001534e-01, -2.80001726e-01, -2.40001918e-01,\n",
       "        -2.00002110e-01, -1.60002302e-01, -1.20002494e-01, -8.00026858e-02,\n",
       "        -4.00028777e-02, -3.06963921e-06,  3.99967384e-02,  7.99965465e-02,\n",
       "         1.19996355e-01,  1.59996163e-01,  1.99995971e-01,  2.39995779e-01,\n",
       "         2.79995587e-01,  3.19995395e-01,  3.59995203e-01,  3.99995011e-01,\n",
       "         4.39994819e-01,  4.79994627e-01,  5.19994435e-01,  5.59994243e-01,\n",
       "         5.99994051e-01,  6.39993860e-01,  6.79993668e-01,  7.19993476e-01,\n",
       "         7.59993284e-01,  7.99993092e-01,  8.39992900e-01,  8.79992708e-01,\n",
       "         9.19992516e-01,  9.59992324e-01,  9.99992132e-01]),\n",
       " <BarContainer object of 50 artists>)"
      ]
     },
     "execution_count": 24,
     "metadata": {},
     "output_type": "execute_result"
    },
    {
     "data": {
      "image/png": "[encoded data removed]",
      "text/plain": [
       "<Figure size 640x480 with 1 Axes>"
      ]
     },
     "metadata": {},
     "output_type": "display_data"
    }
   ],
   "source": [
    "plt.hist(activation_1.view(-1).tolist(), bins=50)"
   ]
  },
  {
   "cell_type": "code",
   "execution_count": 25,
   "metadata": {},
   "outputs": [
    {
     "data": {
      "text/plain": [
       "(array([  1.,   0.,   0.,   1.,   5.,   6.,  11.,  17.,  16.,  17.,  26.,\n",
       "         45.,  75.,  99., 114., 151., 205., 271., 305., 397., 507., 614.,\n",
       "        694., 734., 856., 931., 859., 882., 794., 772., 641., 578., 485.,\n",
       "        356., 346., 259., 207., 134., 114.,  87.,  58.,  42.,  24.,  20.,\n",
       "         12.,  14.,  10.,   1.,   5.,   2.]),\n",
       " array([-6.98163509, -6.71753589, -6.45343668, -6.18933747, -5.92523827,\n",
       "        -5.66113906, -5.39703985, -5.13294065, -4.86884144, -4.60474223,\n",
       "        -4.34064302, -4.07654382, -3.81244461, -3.5483454 , -3.2842462 ,\n",
       "        -3.02014699, -2.75604778, -2.49194858, -2.22784937, -1.96375016,\n",
       "        -1.69965096, -1.43555175, -1.17145254, -0.90735333, -0.64325413,\n",
       "        -0.37915492, -0.11505571,  0.14904349,  0.4131427 ,  0.67724191,\n",
       "         0.94134111,  1.20544032,  1.46953953,  1.73363873,  1.99773794,\n",
       "         2.26183715,  2.52593636,  2.79003556,  3.05413477,  3.31823398,\n",
       "         3.58233318,  3.84643239,  4.1105316 ,  4.3746308 ,  4.63873001,\n",
       "         4.90282922,  5.16692842,  5.43102763,  5.69512684,  5.95922605,\n",
       "         6.22332525]),\n",
       " <BarContainer object of 50 artists>)"
      ]
     },
     "execution_count": 25,
     "metadata": {},
     "output_type": "execute_result"
    },
    {
     "data": {
      "image/png": "[encoded data removed]",
      "text/plain": [
       "<Figure size 640x480 with 1 Axes>"
      ]
     },
     "metadata": {},
     "output_type": "display_data"
    }
   ],
   "source": [
    "plt.hist(pre_activation_1.view(-1).tolist(), bins=50)"
   ]
  },
  {
   "cell_type": "code",
   "execution_count": 57,
   "metadata": {},
   "outputs": [
    {
     "data": {
      "text/plain": [
       "<matplotlib.image.AxesImage at 0x27c02498ac0>"
      ]
     },
     "execution_count": 57,
     "metadata": {},
     "output_type": "execute_result"
    },
    {
     "data": {
      "image/png": "[encoded data removed]",
      "text/plain": [
       "<Figure size 2000x1000 with 1 Axes>"
      ]
     },
     "metadata": {},
     "output_type": "display_data"
    }
   ],
   "source": [
    "\n",
    "# If any coloum is fully white, that would mean that that particular neuron is not activated for any of the inputs, and hence it cannot learn\n",
    "\n",
    "plt.figure(figsize=(20,10))\n",
    "plt.imshow(activation_1.abs() > 0.99, cmap='gray', interpolation='nearest')"
   ]
  },
  {
   "cell_type": "code",
   "execution_count": 58,
   "metadata": {},
   "outputs": [
    {
     "data": {
      "text/plain": [
       "[<matplotlib.lines.Line2D at 0x27c0ceb22f0>]"
      ]
     },
     "execution_count": 58,
     "metadata": {},
     "output_type": "execute_result"
    },
    {
     "data": {
      "image/png": "[encoded data removed]",
      "text/plain": [
       "<Figure size 640x480 with 1 Axes>"
      ]
     },
     "metadata": {},
     "output_type": "display_data"
    }
   ],
   "source": [
    "plt.plot(losses)"
   ]
  },
  {
   "cell_type": "code",
   "execution_count": 49,
   "metadata": {},
   "outputs": [
    {
     "name": "stdout",
     "output_type": "stream",
     "text": [
      "tensor([[ 2.2565,  0.7771, -0.4146,  0.4131, -0.4423, -0.9669, -0.3833, -0.0513,\n",
      "         -0.0751,  0.3580,  0.2852, -0.3416, -1.1099,  0.4672, -0.0890, -0.9616,\n",
      "         -0.4494,  0.0831, -0.4804, -0.6617, -0.7680,  0.9445, -1.2265,  0.0197,\n",
      "         -1.7021, -0.7052,  1.2704,  0.4390,  1.5423, -1.6024, -1.2217,  0.3014,\n",
      "          0.1730,  0.6822,  0.2122,  1.9862, -0.2264, -1.1627,  0.5550,  1.2731,\n",
      "          1.3079, -1.2902, -0.9899, -0.0665, -1.1983,  0.7909,  0.6115,  1.2298,\n",
      "          0.6580, -0.8370,  1.5325,  0.2126, -0.4384, -0.6037, -0.1098,  0.6227,\n",
      "          0.7353,  0.6411, -0.1555,  0.4638, -0.3216,  2.0078,  0.5449,  0.2592,\n",
      "         -0.2699,  0.5424,  1.1868,  0.8343,  0.9411,  0.3300, -1.1437, -0.9091,\n",
      "          0.4455, -1.0066,  1.7415,  0.8675, -2.0987,  0.3345, -0.8343, -1.1341,\n",
      "          1.3676,  1.1532, -0.4742,  0.6808, -0.0048,  1.1348,  1.1719,  0.3912,\n",
      "          0.6371,  0.7552, -0.4991,  0.1275,  1.3191,  1.0616, -1.3230, -0.8386,\n",
      "          0.4412, -0.6173,  0.7756, -1.7606,  1.3126,  1.2387,  1.1771,  0.9436,\n",
      "         -1.3833,  0.7206,  0.4224, -0.6339,  0.1938, -0.0961, -0.4704, -1.1204,\n",
      "          0.6720, -0.4351,  2.1965, -0.4224, -0.8519,  0.3456,  0.7805, -0.0599,\n",
      "          1.1136,  0.0873,  0.8584, -0.0846,  0.0194,  0.0864, -1.4088, -0.2541,\n",
      "         -1.3883, -0.4570,  0.2649,  0.8077, -0.4137,  0.3392, -0.4841,  0.5016,\n",
      "         -0.0315,  1.2871, -0.2104, -0.4092, -0.1389, -0.5410, -1.4463,  0.0976,\n",
      "         -0.5609,  0.2145, -1.0045,  1.0319, -0.5049,  0.7444,  0.5701,  1.6727,\n",
      "         -0.2412, -0.4211, -1.5153, -1.0583,  0.6177,  0.3574, -1.0275,  1.8362,\n",
      "          0.6964, -0.1054, -0.0267, -0.5232, -0.6160, -0.9500, -0.1891, -0.0241,\n",
      "          1.0973,  0.5916,  0.8097, -0.8867, -0.5113, -0.4050, -0.3309, -0.1969,\n",
      "          0.6080,  0.0759, -0.0665, -0.0132,  1.7934,  0.0777,  1.2742,  0.1194,\n",
      "          0.2948,  1.9874,  1.2013, -0.3435,  0.9147,  0.1416,  1.2731,  0.0551,\n",
      "         -1.2601, -0.2394, -0.3007,  1.3569, -0.7861, -0.4885, -0.4230, -0.1977]]) tensor([[1.9355, 1.8964, 1.9967, 1.9640, 1.7980, 2.0021, 1.8854, 1.7747, 1.9737,\n",
      "         1.7187, 1.7197, 1.9494, 1.8876, 1.9942, 1.9421, 1.8413, 1.7951, 1.8563,\n",
      "         1.6916, 1.8213, 1.9461, 1.8913, 2.6158, 2.0176, 1.8066, 1.7569, 1.8509,\n",
      "         1.8083, 1.9480, 1.9916, 1.9571, 1.7082, 2.1586, 1.8712, 2.0628, 2.0587,\n",
      "         1.9172, 1.7935, 1.8004, 1.8082, 2.1070, 1.7915, 2.2801, 2.1378, 1.8827,\n",
      "         1.8146, 2.1532, 2.2300, 2.3056, 1.9135, 2.1707, 2.0344, 2.3057, 1.9376,\n",
      "         1.8893, 1.8668, 1.9384, 2.0373, 2.2508, 1.8575, 2.1310, 2.4242, 1.9819,\n",
      "         1.8095, 2.3992, 1.9169, 2.1802, 2.0846, 2.1609, 1.7667, 1.9235, 2.0734,\n",
      "         2.1494, 1.8725, 1.6869, 2.0701, 2.0412, 1.8957, 2.0013, 1.7357, 1.7197,\n",
      "         1.8772, 1.9886, 2.0129, 1.9980, 1.9539, 2.1098, 2.1658, 1.8024, 2.0252,\n",
      "         2.2945, 1.7841, 2.0331, 1.7324, 2.0103, 2.1203, 2.2592, 1.9791, 1.8745,\n",
      "         2.0903, 2.0670, 1.9295, 1.6739, 1.8743, 2.0083, 1.7350, 1.7795, 1.9984,\n",
      "         1.9637, 1.6405, 2.3139, 1.8727, 2.2000, 2.2181, 1.8733, 2.0545, 1.9517,\n",
      "         1.6240, 2.2497, 1.9566, 1.6694, 1.9652, 1.6206, 1.7929, 2.0712, 1.4926,\n",
      "         2.0530, 1.8287, 1.7596, 2.0326, 1.9141, 1.6841, 1.8377, 1.9248, 1.9885,\n",
      "         2.0963, 1.7738, 2.1976, 2.0087, 1.7955, 2.0357, 1.7311, 2.3832, 2.0973,\n",
      "         2.0167, 1.8657, 1.7697, 2.0097, 2.0872, 1.8678, 1.8960, 2.0132, 1.8110,\n",
      "         2.2730, 2.2308, 1.9975, 1.5833, 1.7321, 2.0152, 1.7749, 2.0549, 2.1451,\n",
      "         2.1312, 2.1016, 1.8479, 1.9125, 1.8543, 2.1860, 1.9296, 2.2278, 1.9222,\n",
      "         1.9119, 1.8670, 1.8417, 2.1358, 1.8619, 1.8770, 1.5482, 1.5520, 1.6297,\n",
      "         1.8616, 2.5233, 1.9010, 1.8189, 1.8280, 2.0042, 1.7342, 2.1333, 1.8132,\n",
      "         1.6316, 1.8850, 2.0000, 1.7012, 2.0224, 2.0622, 1.8236, 2.1219, 1.8982,\n",
      "         1.9048, 1.8832]])\n",
      "tensor([[ 2.2387e+00,  7.5747e-01, -4.4096e-01,  4.3300e-01, -4.4292e-01,\n",
      "         -9.5146e-01, -3.8854e-01, -5.2530e-02, -7.9363e-02,  3.5909e-01,\n",
      "          2.7523e-01, -3.2427e-01, -1.1041e+00,  4.5941e-01, -9.1784e-02,\n",
      "         -9.4438e-01, -4.6701e-01,  8.5568e-02, -4.6147e-01, -6.7011e-01,\n",
      "         -7.7330e-01,  9.5909e-01, -1.2374e+00,  3.9116e-02, -1.7060e+00,\n",
      "         -7.0310e-01,  1.2675e+00,  4.3974e-01,  1.5351e+00, -1.6301e+00,\n",
      "         -1.2057e+00,  3.1181e-01,  1.6646e-01,  6.6089e-01,  1.9244e-01,\n",
      "          1.9698e+00, -2.3124e-01, -1.1933e+00,  5.6228e-01,  1.2452e+00,\n",
      "          1.2859e+00, -1.2884e+00, -1.0087e+00, -7.8136e-02, -1.1996e+00,\n",
      "          8.0957e-01,  5.8104e-01,  1.2073e+00,  6.4560e-01, -8.5911e-01,\n",
      "          1.5297e+00,  2.2820e-01, -4.4859e-01, -5.7702e-01, -9.8388e-02,\n",
      "          6.6469e-01,  7.4317e-01,  6.2099e-01, -1.4527e-01,  4.3040e-01,\n",
      "         -3.0226e-01,  1.9952e+00,  5.5355e-01,  2.4430e-01, -2.7398e-01,\n",
      "          5.4753e-01,  1.1706e+00,  8.5554e-01,  9.5365e-01,  3.4675e-01,\n",
      "         -1.1326e+00, -9.2624e-01,  4.4134e-01, -1.0211e+00,  1.7455e+00,\n",
      "          8.4841e-01, -2.1037e+00,  3.2693e-01, -8.2593e-01, -1.1232e+00,\n",
      "          1.3645e+00,  1.1498e+00, -4.7394e-01,  6.4912e-01,  1.1380e-02,\n",
      "          1.1054e+00,  1.1954e+00,  3.7687e-01,  6.2698e-01,  7.6725e-01,\n",
      "         -4.8234e-01,  1.3436e-01,  1.3564e+00,  1.0489e+00, -1.3053e+00,\n",
      "         -8.1702e-01,  4.3133e-01, -6.0205e-01,  7.4751e-01, -1.7506e+00,\n",
      "          1.3369e+00,  1.1977e+00,  1.1842e+00,  9.3564e-01, -1.4068e+00,\n",
      "          7.3837e-01,  4.2341e-01, -6.2165e-01,  2.2250e-01, -9.0521e-02,\n",
      "         -4.6075e-01, -1.1080e+00,  6.6812e-01, -4.1883e-01,  2.1948e+00,\n",
      "         -4.2040e-01, -8.4338e-01,  3.3096e-01,  7.7233e-01, -5.2976e-02,\n",
      "          1.1214e+00,  6.8249e-02,  8.6126e-01, -9.9400e-02,  3.5375e-02,\n",
      "          7.3183e-02, -1.4321e+00, -2.6541e-01, -1.3769e+00, -4.6919e-01,\n",
      "          2.3649e-01,  7.9902e-01, -4.1579e-01,  3.2650e-01, -4.7995e-01,\n",
      "          4.7652e-01, -1.7249e-02,  1.2704e+00, -2.0865e-01, -4.1608e-01,\n",
      "         -1.2117e-01, -5.2576e-01, -1.4395e+00,  1.1656e-01, -5.5103e-01,\n",
      "          2.3196e-01, -1.0113e+00,  1.0007e+00, -4.8289e-01,  7.5413e-01,\n",
      "          5.4452e-01,  1.6632e+00, -2.2690e-01, -4.6178e-01, -1.5058e+00,\n",
      "         -1.0624e+00,  6.2722e-01,  3.7012e-01, -1.0378e+00,  1.8567e+00,\n",
      "          6.7601e-01, -1.1429e-01,  6.7175e-04, -5.1343e-01, -6.1216e-01,\n",
      "         -9.2389e-01, -1.7340e-01, -4.1475e-02,  1.1045e+00,  6.1833e-01,\n",
      "          8.0669e-01, -9.1163e-01, -5.2649e-01, -4.0287e-01, -3.4137e-01,\n",
      "         -1.7997e-01,  5.9715e-01,  9.9773e-02, -5.3809e-02,  1.6090e-02,\n",
      "          1.7710e+00,  8.1225e-02,  1.2604e+00,  1.3656e-01,  3.1169e-01,\n",
      "          1.9991e+00,  1.1897e+00, -3.2764e-01,  9.4909e-01,  1.6060e-01,\n",
      "          1.2694e+00,  6.9919e-02, -1.2782e+00, -1.9516e-01, -3.1536e-01,\n",
      "          1.3229e+00, -8.0807e-01, -4.7241e-01, -4.2246e-01, -2.0522e-01]]) tensor([[1.9164, 1.9009, 1.9843, 1.9415, 1.7797, 2.0130, 1.8643, 1.7785, 1.9737,\n",
      "         1.7242, 1.7232, 1.9186, 1.8732, 1.9845, 1.9164, 1.8414, 1.7701, 1.8348,\n",
      "         1.6884, 1.8041, 1.9311, 1.8762, 2.6042, 1.9931, 1.8083, 1.7640, 1.8638,\n",
      "         1.8038, 1.9462, 1.9780, 1.9394, 1.7044, 2.1646, 1.8558, 2.0475, 2.0575,\n",
      "         1.9046, 1.7927, 1.8016, 1.8130, 2.1128, 1.7896, 2.2726, 2.1370, 1.8736,\n",
      "         1.8140, 2.1430, 2.2224, 2.2694, 1.8991, 2.1237, 2.0235, 2.3007, 1.9228,\n",
      "         1.8780, 1.8722, 1.9091, 2.0259, 2.2547, 1.8595, 2.1094, 2.4177, 1.9799,\n",
      "         1.7965, 2.3947, 1.9199, 2.1884, 2.0835, 2.1212, 1.7499, 1.9232, 2.0611,\n",
      "         2.1598, 1.8501, 1.6586, 2.0835, 2.0321, 1.8751, 1.9874, 1.7220, 1.7031,\n",
      "         1.8639, 1.9738, 2.0022, 1.9624, 1.9455, 2.0727, 2.1445, 1.7959, 2.0234,\n",
      "         2.2891, 1.7609, 2.0133, 1.7243, 2.0148, 2.1259, 2.2656, 1.9600, 1.8701,\n",
      "         2.0843, 2.0568, 1.9385, 1.6760, 1.8618, 1.9887, 1.7150, 1.7785, 1.9939,\n",
      "         1.9096, 1.6286, 2.3033, 1.8722, 2.1800, 2.1699, 1.8681, 2.0347, 1.9378,\n",
      "         1.6018, 2.2270, 1.9242, 1.6512, 1.9414, 1.5993, 1.7564, 2.0620, 1.4730,\n",
      "         2.0360, 1.8156, 1.7537, 2.0314, 1.9043, 1.6749, 1.8346, 1.9110, 1.9645,\n",
      "         2.1073, 1.7770, 2.2143, 1.9937, 1.7692, 2.0408, 1.7153, 2.3736, 2.0831,\n",
      "         2.0131, 1.8529, 1.7703, 2.0010, 2.0570, 1.8409, 1.8837, 2.0096, 1.7766,\n",
      "         2.2516, 2.2163, 1.9927, 1.5802, 1.7232, 2.0023, 1.7396, 2.0672, 2.1358,\n",
      "         2.1303, 2.0856, 1.8434, 1.9009, 1.8361, 2.1612, 1.9140, 2.2409, 1.9086,\n",
      "         1.8997, 1.8414, 1.8269, 2.1285, 1.8617, 1.8681, 1.5293, 1.5441, 1.6244,\n",
      "         1.8538, 2.4881, 1.8981, 1.8037, 1.7967, 1.9765, 1.7138, 2.1159, 1.8135,\n",
      "         1.6151, 1.8680, 1.9861, 1.7122, 2.0252, 2.0452, 1.8101, 2.1100, 1.8948,\n",
      "         1.8986, 1.8620]])\n"
     ]
    }
   ],
   "source": [
    "\n",
    "# calculate mean and std for pre-activations over the whole dataset\n",
    "# this can also be calculated in a running manner\n",
    "\n",
    "with torch.no_grad():\n",
    "    embedding = embedding_matrix[x_train]\n",
    "    pre_activation_1 = embedding.view(-1,embedding_size * block_size) @ W1 + b1\n",
    "\n",
    "    # Batch normalization\n",
    "    mean_wholeset = pre_activation_1.mean(dim=0, keepdim=True)\n",
    "    std_wholeset = pre_activation_1.std(dim=0, keepdim=True)\n",
    "\n",
    "print(mean_wholeset, std_wholeset)\n",
    "print(mean_running, std_running)\n"
   ]
  },
  {
   "cell_type": "code",
   "execution_count": 59,
   "metadata": {},
   "outputs": [
    {
     "name": "stdout",
     "output_type": "stream",
     "text": [
      "train loss: 1.9985\n",
      "val loss: 2.3070\n"
     ]
    }
   ],
   "source": [
    "@torch.no_grad()\n",
    "def eval_loss(set_name: str):\n",
    "    x, y = {\n",
    "        \"train\": (x_train, y_train),\n",
    "        \"val\": (x_val, y_val),\n",
    "        \"test\": (x_test, y_test),\n",
    "    }[set_name]\n",
    "\n",
    "    embedding = embedding_matrix[x]\n",
    "    pre_activation_1 = embedding.view(-1,embedding_size*block_size) @ W1 + b1\n",
    "\n",
    "    # Batch normalization\n",
    "    pre_activation_1 = (pre_activation_1 - mean_running) / std_running\n",
    "    pre_activation_1 = pre_activation_1 * batch_norm_gain + batch_norm_bias\n",
    "    \n",
    "\n",
    "    activation_1 = torch.tanh(pre_activation_1)\n",
    "    logits = activation_1 @ W2 + b2\n",
    "    loss = F.cross_entropy(logits, y)\n",
    "    print(f\"{set_name} loss: {loss.item():.4f}\")\n",
    "\n",
    "eval_loss(\"train\")\n",
    "eval_loss(\"val\")\n",
    "    "
   ]
  },
  {
   "cell_type": "code",
   "execution_count": 61,
   "metadata": {},
   "outputs": [
    {
     "name": "stdout",
     "output_type": "stream",
     "text": [
      "anuelen\n",
      "tia\n",
      "marian\n",
      "dan\n",
      "shan\n",
      "silayley\n",
      "kemarce\n",
      "mar\n",
      "epiacelle\n",
      "jamee\n",
      "kend\n",
      "josey\n",
      "gur\n",
      "lak\n",
      "mikolynn\n",
      "acvisia\n",
      "ace\n",
      "lavitta\n",
      "cli\n",
      "jaymar\n"
     ]
    }
   ],
   "source": [
    "rand_gen = torch.Generator().manual_seed(42)\n",
    "\n",
    "for _ in range(20):\n",
    "    out = []\n",
    "    context = [0] * block_size\n",
    "\n",
    "    while True:\n",
    "        emb = embedding_matrix[\n",
    "            torch.tensor([context])\n",
    "        ]\n",
    "\n",
    "        pre_act_1 = emb.view(1,-1) @ W1 + b1\n",
    "\n",
    "        # Batch normalization\n",
    "        pre_act_1 = (pre_act_1 - mean_running) / std_running\n",
    "        pre_act_1 = batch_norm_gain * pre_act_1 + batch_norm_bias\n",
    "\n",
    "\n",
    "\n",
    "        act_1 = torch.tanh(pre_act_1)\n",
    "        logits = act_1 @ W2 + b2\n",
    "        probs = F.softmax(logits, dim=1)\n",
    "        ix = torch.multinomial(probs, num_samples=1,generator=rand_gen).item()\n",
    "        context = context[1:] + [ix]\n",
    "        \n",
    "        if ix == 0:\n",
    "            break\n",
    "\n",
    "        out.append(ix)\n",
    "\n",
    "    print(''.join([idx2char[i] for i in out]))"
   ]
  }
 ],
 "metadata": {
  "kernelspec": {
   "display_name": "venv",
   "language": "python",
   "name": "python3"
  },
  "language_info": {
   "codemirror_mode": {
    "name": "ipython",
    "version": 3
   },
   "file_extension": ".py",
   "mimetype": "text/x-python",
   "name": "python",
   "nbconvert_exporter": "python",
   "pygments_lexer": "ipython3",
   "version": "3.10.0 (tags/v3.10.0:b494f59, Oct  4 2021, 19:00:18) [MSC v.1929 64 bit (AMD64)]"
  },
  "orig_nbformat": 4,
  "vscode": {
   "interpreter": {
    "hash": "7afcb4a04d08665c2529ae0dc1d5ec01f94baaa4a57a18e0d9f75f04722700b7"
   }
  }
 },
 "nbformat": 4,
 "nbformat_minor": 2
}
