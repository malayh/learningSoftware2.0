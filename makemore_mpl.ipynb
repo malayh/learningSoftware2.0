{
 "cells": [
  {
   "cell_type": "code",
   "execution_count": 2,
   "metadata": {},
   "outputs": [],
   "source": [
    "import torch\n",
    "import torch.nn.functional as F\n",
    "import matplotlib.pyplot as plt\n",
    "%matplotlib inline\n",
    "\n",
    "words = open(r'data\\names.txt','r').read().splitlines()\n",
    "\n",
    "chars = sorted(list(set(''.join(words))))\n",
    "chars = ['.'] + chars\n",
    "\n",
    "char2idx = {c:i for i,c in enumerate(chars)}\n",
    "idx2char = {i:c for c,i in char2idx.items()}"
   ]
  },
  {
   "cell_type": "code",
   "execution_count": 449,
   "metadata": {},
   "outputs": [
    {
     "data": {
      "text/plain": [
       "(182424, 22836, 22886)"
      ]
     },
     "execution_count": 449,
     "metadata": {},
     "output_type": "execute_result"
    }
   ],
   "source": [
    "# Build dataset\n",
    "import random\n",
    "\n",
    "def build_data_set(words):\n",
    "    xs , ys = [], []\n",
    "    block_size = 3\n",
    "\n",
    "    for word in words:\n",
    "        # print(word)\n",
    "\n",
    "        context = [0] * block_size\n",
    "        for _chr in word+'.':\n",
    "            ix = char2idx[_chr]\n",
    "            xs.append(context)\n",
    "            ys.append(ix)\n",
    "        \n",
    "            # print(''.join([idx2char[i] for i in context]),'->',_chr)\n",
    "            context = context[1:] + [ix] # pop first, append ix\n",
    "\n",
    "        # print()\n",
    "\n",
    "    xs = torch.tensor(xs)\n",
    "    ys = torch.tensor(ys)\n",
    "    return xs, ys\n",
    "\n",
    "\n",
    "\n",
    "random.seed(42)\n",
    "random.shuffle(words)\n",
    "\n",
    "\n",
    "\n",
    "n_train = int(len(words) * 0.8)\n",
    "n_1 = int(len(words) * 0.9)\n",
    "\n",
    "x_train , y_train = build_data_set(words[:n_train])\n",
    "x_valid , y_valid = build_data_set(words[n_train:n_1])\n",
    "x_test , y_test = build_data_set(words[n_1:])\n",
    "\n",
    "total_train = len(x_train)\n",
    "total_valid = len(x_valid)\n",
    "total_test = len(x_test)\n",
    "\n",
    "total_train, total_valid, total_test"
   ]
  },
  {
   "cell_type": "code",
   "execution_count": 450,
   "metadata": {},
   "outputs": [
    {
     "name": "stdout",
     "output_type": "stream",
     "text": [
      "tensor([-1.1426, -1.9347,  0.2554, -2.3124])\n",
      "tensor([-1.1426, -1.9347,  0.2554, -2.3124])\n"
     ]
    }
   ],
   "source": [
    "# What does \"embedding in a n-dimensional space\" mean?\n",
    "i = F.one_hot(torch.tensor(2),num_classes=3).float()\n",
    "matrix = torch.randn((3,4))\n",
    "\n",
    "# These two are equivalent\n",
    "print(i @ matrix)\n",
    "print(matrix[2])\n",
    "\n",
    "# matrix represents a 4 dimensional space, where we are embedding the integer 2. We can access the embedding by indexing into the matrix \n",
    "# or by doing dot product with its one-hot vector."
   ]
  },
  {
   "cell_type": "code",
   "execution_count": 451,
   "metadata": {},
   "outputs": [
    {
     "name": "stdout",
     "output_type": "stream",
     "text": [
      "tensor([[0.5500, 0.0427],\n",
      "        [0.5500, 0.0427],\n",
      "        [0.5500, 0.0427]])\n",
      "tensor([[0.5500, 0.0427],\n",
      "        [0.5500, 0.0427],\n",
      "        [0.5500, 0.0427]])\n",
      "torch.Size([182424, 3, 2])\n"
     ]
    }
   ],
   "source": [
    "# Embed xs in an embedding space of dimension 2\n",
    "embedding_space = torch.randn(total_train, 2)\n",
    "embedding = embedding_space[x_train]\n",
    "\n",
    "# This gives us embedding of the first charater in the dataset.\n",
    "# Following 2 lines are equivalent\n",
    "print(embedding_space[x_train[0]])\n",
    "print(embedding[0])\n",
    "print(embedding.shape)"
   ]
  },
  {
   "cell_type": "code",
   "execution_count": 305,
   "metadata": {},
   "outputs": [
    {
     "data": {
      "text/plain": [
       "tensor([[ 0,  1],\n",
       "        [ 2,  3],\n",
       "        [ 4,  5],\n",
       "        [ 6,  7],\n",
       "        [ 8,  9],\n",
       "        [10, 11],\n",
       "        [12, 13],\n",
       "        [14, 15],\n",
       "        [16, 17]])"
      ]
     },
     "execution_count": 305,
     "metadata": {},
     "output_type": "execute_result"
    }
   ],
   "source": [
    "# How tensors work\n",
    "# - Tensors are stored as a linear array in memory\n",
    "# - It's shape is interpreted by other attributes\n",
    "# - `tensor.view` returns a new tensor with the same data, but different shape, as long as the params to view multiply \n",
    "# to the total number of elements in the tensor\n",
    "a = torch.arange(18)\n",
    "a.view(9,2)"
   ]
  },
  {
   "cell_type": "code",
   "execution_count": 452,
   "metadata": {},
   "outputs": [],
   "source": [
    "# Intialize weights and biases\n",
    "rand_gen = torch.Generator().manual_seed(2147483647)\n",
    "\n",
    "# Embed xs in an embedding space of dimension 2\n",
    "embedding_space = torch.randn((27,10), generator=rand_gen, requires_grad=True)\n",
    "\n",
    "W1 = torch.randn((30,200), generator=rand_gen, requires_grad=True)\n",
    "b1 = torch.randn(200, generator=rand_gen, requires_grad=True)\n",
    "W2 = torch.randn((200,27), generator=rand_gen, requires_grad=True)\n",
    "b2 = torch.randn(27, generator=rand_gen, requires_grad=True)\n",
    "\n",
    "params = [W1,b1,W2,b2,embedding_space]\n"
   ]
  },
  {
   "cell_type": "code",
   "execution_count": 453,
   "metadata": {},
   "outputs": [],
   "source": [
    "learning_rates_e = torch.linspace(-3,0, 1000)\n",
    "learning_rates = 10**learning_rates_e"
   ]
  },
  {
   "cell_type": "code",
   "execution_count": 454,
   "metadata": {},
   "outputs": [],
   "source": [
    "learning_rates_used = []\n",
    "losses_for_each_lr = []\n",
    "losses_per_step = []\n",
    "step_i = []"
   ]
  },
  {
   "cell_type": "code",
   "execution_count": 458,
   "metadata": {},
   "outputs": [
    {
     "name": "stdout",
     "output_type": "stream",
     "text": [
      "Loss: 2.0939\n"
     ]
    },
    {
     "data": {
      "text/plain": [
       "[<matplotlib.lines.Line2D at 0x169005f9c90>]"
      ]
     },
     "execution_count": 458,
     "metadata": {},
     "output_type": "execute_result"
    },
    {
     "data": {
      "image/png": "[encoded data removed]",
      "text/plain": [
       "<Figure size 640x480 with 1 Axes>"
      ]
     },
     "metadata": {},
     "output_type": "display_data"
    }
   ],
   "source": [
    "\n",
    "batch_size = 500\n",
    "\n",
    "# forward pass\n",
    "for i in range(50000):\n",
    "    ix = torch.randint(0, x_train.shape[0], (batch_size,))\n",
    "\n",
    "    embedding = embedding_space[x_train[ix]]\n",
    "    activation_1 = torch.tanh(embedding.view(-1,30) @ W1 + b1) # -1 means \"as many as needed\", which is inferred from the dimensions of the other params\n",
    "    logits = activation_1 @ W2 + b2\n",
    "\n",
    "\n",
    "    # count = logits.exp()\n",
    "    # probs = count / count.sum(dim=1, keepdim=True)\n",
    "    # # index into probs with (batch_size, index) to get the probability of the correct character\n",
    "    # i_batch = torch.arange(total_xs)\n",
    "    # loss = -probs[i_batch,ys].log().mean()\n",
    "    loss = F.cross_entropy(logits, y_train[ix])\n",
    "\n",
    "    # backward pass\n",
    "    for p in params:\n",
    "        p.grad = None\n",
    "\n",
    "    loss.backward(retain_graph=True)\n",
    "\n",
    "    # update params\n",
    "    for p in params:\n",
    "        p.data -= 0.01 * p.grad # 0.1 is determined by plotting learning_rates_exponent vs loss and finding the point where loss is stable\n",
    "        # p.data -= learning_rates[i] * p.grad\n",
    "\n",
    "\n",
    "    # track learning rate vs loss\n",
    "    # learning_rates_used.append(learning_rates_e[i])\n",
    "    # losses_for_each_lr.append(loss.item())\n",
    "\n",
    "    # track loss vs step\n",
    "    losses_per_step.append(loss.log10().item())\n",
    "    step_i.append(i)\n",
    "\n",
    "print(f\"Loss: {loss.item():.4f}\")\n",
    "plt.plot(step_i, losses_per_step)"
   ]
  },
  {
   "cell_type": "code",
   "execution_count": 459,
   "metadata": {},
   "outputs": [
    {
     "name": "stdout",
     "output_type": "stream",
     "text": [
      "Loss: 2.1616\n"
     ]
    }
   ],
   "source": [
    "# loss on the entire dataset\n",
    "embedding = embedding_space[x_valid]\n",
    "activation_1 = torch.tanh(embedding.view(-1,30) @ W1 + b1)\n",
    "logits = activation_1 @ W2 + b2\n",
    "loss = F.cross_entropy(logits, y_valid)\n",
    "print(f\"Loss: {loss.item():.4f}\")"
   ]
  },
  {
   "cell_type": "code",
   "execution_count": 394,
   "metadata": {},
   "outputs": [
    {
     "data": {
      "image/png": "[encoded data removed]",
      "text/plain": [
       "<Figure size 800x800 with 1 Axes>"
      ]
     },
     "metadata": {},
     "output_type": "display_data"
    }
   ],
   "source": [
    "# Visualize the embedding space, only works for 2D embedding space\n",
    "\n",
    "# emb_space = embedding_space[torch.arange(27)]\n",
    "# plt.figure(figsize=(8,8))\n",
    "# plt.scatter(emb_space[:,0].data, emb_space[:,1].data, s=200)\n",
    "# for i in range(27):\n",
    "#     plt.text(\n",
    "#         emb_space[i,0].item(), \n",
    "#         emb_space[i,1].item(), \n",
    "#         idx2char[i], \n",
    "#         ha='center', \n",
    "#         va='center', \n",
    "#         color='white'\n",
    "#     )\n",
    "\n",
    "# plt.grid('minor')\n",
    "\n"
   ]
  },
  {
   "cell_type": "code",
   "execution_count": 461,
   "metadata": {},
   "outputs": [
    {
     "name": "stdout",
     "output_type": "stream",
     "text": [
      "cex\n",
      "mariallura\n",
      "carity\n",
      "kell\n",
      "immana\n",
      "noluwan\n",
      "katha\n",
      "samiyah\n",
      "javer\n",
      "gotai\n",
      "molise\n",
      "kaugu\n",
      "preda\n",
      "kaley\n",
      "maside\n",
      "enka\n",
      "graylynns\n",
      "millie\n",
      "bron\n",
      "lus\n"
     ]
    }
   ],
   "source": [
    "# inference\n",
    "rand_gen = torch.Generator().manual_seed(2147483647)\n",
    "block_size = 3\n",
    "\n",
    "for _ in range(20):\n",
    "    out = []\n",
    "    context = [0] * block_size\n",
    "\n",
    "    while True:\n",
    "        emb = embedding_space[\n",
    "            torch.tensor([context])\n",
    "        ]\n",
    "\n",
    "        act_1 = torch.tanh(emb.view(1,-1) @ W1 + b1)\n",
    "        logits = act_1 @ W2 + b2\n",
    "        probs = F.softmax(logits, dim=1)\n",
    "        ix = torch.multinomial(probs, num_samples=1,generator=rand_gen).item()\n",
    "        context = context[1:] + [ix]\n",
    "        \n",
    "        if ix == 0:\n",
    "            break\n",
    "\n",
    "        out.append(ix)\n",
    "\n",
    "    print(''.join([idx2char[i] for i in out]))\n",
    "    "
   ]
  }
 ],
 "metadata": {
  "kernelspec": {
   "display_name": "venv",
   "language": "python",
   "name": "python3"
  },
  "language_info": {
   "codemirror_mode": {
    "name": "ipython",
    "version": 3
   },
   "file_extension": ".py",
   "mimetype": "text/x-python",
   "name": "python",
   "nbconvert_exporter": "python",
   "pygments_lexer": "ipython3",
   "version": "3.10.0"
  },
  "orig_nbformat": 4,
  "vscode": {
   "interpreter": {
    "hash": "7afcb4a04d08665c2529ae0dc1d5ec01f94baaa4a57a18e0d9f75f04722700b7"
   }
  }
 },
 "nbformat": 4,
 "nbformat_minor": 2
}
