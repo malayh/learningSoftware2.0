{
 "cells": [
  {
   "cell_type": "code",
   "execution_count": 243,
   "metadata": {},
   "outputs": [],
   "source": [
    "import torch\n",
    "import torch.nn.functional as F\n",
    "import matplotlib.pyplot as plt\n",
    "%matplotlib inline\n",
    "\n",
    "from helpers.makemore_helpers import make_char2idx_map, build_dataset\n",
    "\n",
    "words = open(r'data\\names.txt','r').read().splitlines()\n",
    "char2idx = make_char2idx_map(words)\n",
    "idx2char = {v: k for k, v in char2idx.items()}\n",
    "\n",
    "block_size = 8"
   ]
  },
  {
   "cell_type": "code",
   "execution_count": 295,
   "metadata": {},
   "outputs": [
    {
     "name": "stdout",
     "output_type": "stream",
     "text": [
      "Sizes: 182778 22633 22735\n",
      "Shapes: torch.Size([182778, 8]) torch.Size([182778])\n"
     ]
    }
   ],
   "source": [
    "train_count = int(len(words) * 0.8)\n",
    "n_1 = int(len(words) * 0.9)\n",
    "\n",
    "x_train, y_train = build_dataset(words[:train_count], block_size, char2idx)\n",
    "x_val, y_val = build_dataset(words[train_count:n_1], block_size, char2idx)\n",
    "x_test, y_test = build_dataset(words[n_1:], block_size, char2idx)\n",
    "\n",
    "total_train = len(x_train)\n",
    "total_val = len(x_val)\n",
    "total_test = len(x_test)\n",
    "\n",
    "print(f\"Sizes:\", total_train, total_val, total_test)\n",
    "print(\"Shapes:\", x_train.shape, y_train.shape)\n",
    "\n",
    "# x_train.to('cuda')\n",
    "# y_train.to('cuda')"
   ]
  },
  {
   "cell_type": "code",
   "execution_count": 296,
   "metadata": {},
   "outputs": [],
   "source": [
    "from __future__ import  annotations\n",
    "\n",
    "class Linear:\n",
    "    def __init__(self,fan_in, fan_out, bias=True):\n",
    "        self.weight = torch.randn((fan_in, fan_out)) / fan_in**0.5\n",
    "        self.bias = torch.zeros(fan_out) if bias else None\n",
    "\n",
    "    def __call__(self, x):\n",
    "        self.out = x @ self.weight\n",
    "        if self.bias is not None:\n",
    "            self.out += self.bias\n",
    "        return self.out\n",
    "\n",
    "    def parameters(self):\n",
    "        return [self.weight] + [self.bias] if self.bias is not None else [self.weight]\n",
    "\n",
    "\n",
    "\n",
    "class Tanh:\n",
    "    def __call__(self, x):\n",
    "        self.out = torch.tanh(x)\n",
    "        return self.out\n",
    "\n",
    "    def parameters(self):\n",
    "        return []\n",
    "\n",
    "\n",
    "class BatchNorm:\n",
    "    def __init__(self, fan_out, eps=1e-5, momentum=0.01):\n",
    "        self.eps = eps\n",
    "        self.momentum = momentum\n",
    "\n",
    "        self.training = True\n",
    "\n",
    "        # trainable parameters\n",
    "        self.scale_by = torch.ones(fan_out)\n",
    "        self.shift_by = torch.zeros(fan_out)\n",
    "\n",
    "        # buffers\n",
    "        self.running_mean = torch.zeros(fan_out)\n",
    "        self.running_var = torch.ones(fan_out)\n",
    "\n",
    "    def __call__(self, x):\n",
    "        if self.training:\n",
    "            # The batch norm assumes that x is 2d. But if its 3d we have calculate the mean and variance over the first two dimensions\n",
    "            dim = None # so that it throws an error if x.ndim is not 2 or 3\n",
    "            if x.ndim == 3:\n",
    "                dim = (0, 1)\n",
    "            elif x.ndim == 2:\n",
    "                dim = 0\n",
    "\n",
    "            mean = x.mean(dim, keepdim=True)\n",
    "            var = x.var(dim, keepdim=True, unbiased=True)\n",
    "\n",
    "            with torch.no_grad():\n",
    "                self.running_mean = self.momentum * mean + (1 - self.momentum) * self.running_mean\n",
    "                self.running_var = self.momentum * var + (1 - self.momentum) * self.running_var\n",
    "        else:\n",
    "            mean = self.running_mean\n",
    "            var = self.running_var\n",
    "\n",
    "        x_hat = (x - mean) / (var + self.eps).sqrt()\n",
    "        self.out = self.scale_by * x_hat + self.shift_by\n",
    "\n",
    "        return self.out\n",
    "\n",
    "    def parameters(self):\n",
    "        return [self.scale_by, self.shift_by]\n",
    "\n",
    "\n",
    "class Embedding:\n",
    "    def __init__(self, embedding_size, embedding_dimension):\n",
    "        self.weight = torch.randn((embedding_size, embedding_dimension))\n",
    "\n",
    "    def __call__(self, x):\n",
    "        self.out = self.weight[x]\n",
    "        return self.out\n",
    "\n",
    "    def parameters(self):\n",
    "        return [self.weight]\n",
    "\n",
    "class FlattenConsecutive:\n",
    "    def __init__(self, n_consecutive):\n",
    "        self.n_consecutive = n_consecutive\n",
    "\n",
    "    def __call__(self, x):\n",
    "        batch, seq_len, rest = x.shape\n",
    "\n",
    "        x = x.view(batch, seq_len // self.n_consecutive, self.n_consecutive * rest)   \n",
    "        if x.shape[1] == 1:\n",
    "            x = x.squeeze(1)\n",
    "\n",
    "        self.out = x\n",
    "        return self.out\n",
    "\n",
    "    def parameters(self):\n",
    "        return []\n",
    "\n",
    "\n",
    "class Sequential:\n",
    "    def __init__(self, *layers: list):\n",
    "        self.layers = layers\n",
    "\n",
    "    def __call__(self, x):\n",
    "        for layer in self.layers:\n",
    "            x = layer(x)\n",
    "        self.out = x\n",
    "        return self.out\n",
    "\n",
    "    def parameters(self):\n",
    "        return [p for layer in self.layers for p in layer.parameters()]\n"
   ]
  },
  {
   "cell_type": "code",
   "execution_count": 297,
   "metadata": {},
   "outputs": [
    {
     "name": "stdout",
     "output_type": "stream",
     "text": [
      "Total parameters: 76579\n"
     ]
    }
   ],
   "source": [
    "embedding_size = 24\n",
    "vocab_size = len(char2idx)\n",
    "hidden_size = 128\n",
    "\n",
    "model = Sequential(\n",
    "    Embedding(vocab_size, embedding_size),\n",
    "    FlattenConsecutive(2),Linear(embedding_size * 2, hidden_size, bias=False), BatchNorm(hidden_size), Tanh(),\n",
    "    FlattenConsecutive(2),Linear(hidden_size * 2, hidden_size, bias=False), BatchNorm(hidden_size), Tanh(),\n",
    "    FlattenConsecutive(2),Linear(hidden_size * 2, hidden_size, bias=False), BatchNorm(hidden_size), Tanh(),\n",
    "    Linear(hidden_size, vocab_size),\n",
    ")\n",
    "\n",
    "\n",
    "with torch.no_grad():\n",
    "    # make softmax layer less confident\n",
    "    layers[-1].weight *= 0.1\n",
    "\n",
    "\n",
    "params = model.parameters()\n",
    "print(\"Total parameters:\", sum(p.numel() for p in params))\n",
    "\n",
    "for p in params:\n",
    "    p.to('cuda')\n",
    "    p.requires_grad = True\n",
    "    \n"
   ]
  },
  {
   "cell_type": "code",
   "execution_count": 298,
   "metadata": {},
   "outputs": [
    {
     "data": {
      "text/plain": [
       "'11.6'"
      ]
     },
     "execution_count": 298,
     "metadata": {},
     "output_type": "execute_result"
    }
   ],
   "source": [
    "torch.version.cuda"
   ]
  },
  {
   "cell_type": "code",
   "execution_count": 299,
   "metadata": {},
   "outputs": [
    {
     "name": "stdout",
     "output_type": "stream",
     "text": [
      "Embedding : (4, 8, 24)\n",
      "FlattenConsecutive : (4, 4, 48)\n",
      "Linear : (4, 4, 128)\n",
      "BatchNorm : (4, 4, 128)\n",
      "Tanh : (4, 4, 128)\n",
      "FlattenConsecutive : (4, 2, 256)\n",
      "Linear : (4, 2, 128)\n",
      "BatchNorm : (4, 2, 128)\n",
      "Tanh : (4, 2, 128)\n",
      "FlattenConsecutive : (4, 256)\n",
      "Linear : (4, 128)\n",
      "BatchNorm : (4, 128)\n",
      "Tanh : (4, 128)\n",
      "Linear : (4, 27)\n"
     ]
    }
   ],
   "source": [
    "# Scratchpad to see the internal state of the model\n",
    "ix = torch.randint(0,total_train, (4,))\n",
    "xs, ys = x_train[ix], y_train[ix]\n",
    "logits = model(xs)\n",
    "\n",
    "\n",
    "for layer in model.layers:\n",
    "    if hasattr(layer, \"out\"):\n",
    "        print(f\"{layer.__class__.__name__} : {tuple(layer.out.shape)}\")\n",
    "\n",
    "\n"
   ]
  },
  {
   "cell_type": "code",
   "execution_count": 300,
   "metadata": {},
   "outputs": [
    {
     "name": "stdout",
     "output_type": "stream",
     "text": [
      "Step      0: loss 3.4538\n",
      "Step   1000: loss 2.0647\n",
      "Step   2000: loss 1.9809\n",
      "Step   3000: loss 1.9325\n",
      "Step   4000: loss 1.9019\n",
      "Step   5000: loss 1.8652\n",
      "Step   6000: loss 1.9582\n",
      "Step   7000: loss 2.2229\n",
      "Step   8000: loss 2.1166\n",
      "Step   9000: loss 1.9630\n",
      "Step  10000: loss 1.9447\n",
      "Step  11000: loss 1.9878\n",
      "Step  12000: loss 1.8415\n",
      "Step  13000: loss 1.9075\n",
      "Step  14000: loss 1.7194\n",
      "Step  15000: loss 2.0609\n",
      "Step  16000: loss 1.8960\n",
      "Step  17000: loss 1.7894\n",
      "Step  18000: loss 1.8911\n",
      "Step  19000: loss 1.8620\n",
      "Step  20000: loss 2.0365\n",
      "Step  21000: loss 1.9692\n",
      "Step  22000: loss 1.8806\n",
      "Step  23000: loss 1.8983\n",
      "Step  24000: loss 1.7507\n",
      "Step  25000: loss 1.7421\n",
      "Step  26000: loss 1.7803\n",
      "Step  27000: loss 1.8335\n",
      "Step  28000: loss 1.7734\n",
      "Step  29000: loss 1.9345\n",
      "Step  30000: loss 1.7274\n",
      "Step  31000: loss 1.8276\n",
      "Step  32000: loss 1.9141\n",
      "Step  33000: loss 1.6538\n",
      "Step  34000: loss 1.8961\n",
      "Step  35000: loss 1.6888\n",
      "Step  36000: loss 1.5838\n",
      "Step  37000: loss 1.8087\n",
      "Step  38000: loss 1.8505\n",
      "Step  39000: loss 1.8896\n",
      "Step  40000: loss 1.7905\n",
      "Step  41000: loss 1.5937\n",
      "Step  42000: loss 1.6715\n",
      "Step  43000: loss 1.9927\n",
      "Step  44000: loss 1.7825\n",
      "Step  45000: loss 1.8064\n",
      "Step  46000: loss 1.9397\n",
      "Step  47000: loss 1.6676\n",
      "Step  48000: loss 1.7189\n",
      "Step  49000: loss 2.0598\n",
      "Step  50000: loss 1.7007\n",
      "Step  51000: loss 1.7300\n",
      "Step  52000: loss 1.5644\n",
      "Step  53000: loss 1.9103\n",
      "Step  54000: loss 1.6664\n",
      "Step  55000: loss 1.5685\n",
      "Step  56000: loss 1.8231\n",
      "Step  57000: loss 1.8436\n",
      "Step  58000: loss 1.7958\n",
      "Step  59000: loss 1.6140\n",
      "Step  60000: loss 1.7826\n",
      "Step  61000: loss 1.6589\n",
      "Step  62000: loss 1.4452\n",
      "Step  63000: loss 1.6277\n",
      "Step  64000: loss 1.6140\n",
      "Step  65000: loss 1.6952\n",
      "Step  66000: loss 1.6003\n",
      "Step  67000: loss 1.9491\n",
      "Step  68000: loss 1.6384\n",
      "Step  69000: loss 1.5832\n",
      "Step  70000: loss 2.0647\n",
      "Step  71000: loss 1.7681\n",
      "Step  72000: loss 1.6699\n",
      "Step  73000: loss 1.8370\n",
      "Step  74000: loss 1.6321\n",
      "Step  75000: loss 1.5554\n",
      "Step  76000: loss 1.7607\n",
      "Step  77000: loss 1.5258\n",
      "Step  78000: loss 1.8112\n",
      "Step  79000: loss 1.6152\n",
      "Step  80000: loss 1.5390\n",
      "Step  81000: loss 1.7868\n",
      "Step  82000: loss 1.6577\n",
      "Step  83000: loss 1.7788\n",
      "Step  84000: loss 1.7412\n",
      "Step  85000: loss 1.8476\n",
      "Step  86000: loss 1.6165\n",
      "Step  87000: loss 1.6903\n",
      "Step  88000: loss 1.5888\n",
      "Step  89000: loss 1.6668\n",
      "Step  90000: loss 1.5543\n",
      "Step  91000: loss 1.4477\n",
      "Step  92000: loss 1.7864\n",
      "Step  93000: loss 1.4500\n",
      "Step  94000: loss 1.6946\n",
      "Step  95000: loss 1.6014\n",
      "Step  96000: loss 1.5926\n",
      "Step  97000: loss 1.9552\n",
      "Step  98000: loss 1.6621\n",
      "Step  99000: loss 1.6370\n"
     ]
    }
   ],
   "source": [
    "steps = 100_000\n",
    "batch_size = 128\n",
    "losses = []\n",
    "# lrs_used = []\n",
    "\n",
    "update_to_data = []\n",
    "\n",
    "for step in range(steps):\n",
    "\n",
    "    # mini-batch\n",
    "    batch_idx = torch.randint(0,total_train, (batch_size,))\n",
    "    xs = x_train[batch_idx]\n",
    "    ys = y_train[batch_idx]\n",
    "    \n",
    "    xs.to('cuda')\n",
    "    ys.to('cuda')\n",
    "    \n",
    "    # Forward pass\n",
    "    logits = model(xs)\n",
    "\n",
    "    # Loss\n",
    "    loss = F.cross_entropy(logits, ys)\n",
    "\n",
    "    # Backward pass\n",
    "    for p in params:\n",
    "        p.grad = None\n",
    "\n",
    "    loss.backward()\n",
    "\n",
    "    lr = 0.1 if step < int(0.6*steps) else 0.01\n",
    "    for p in params:\n",
    "        p.data += -lr * p.grad\n",
    "\n",
    "\n",
    "    if step % 1000 == 0:\n",
    "        print(f\"Step {step:6d}: loss {loss.item():.4f}\")\n",
    "\n",
    "    \n",
    "    # tracking\n",
    "    losses.append(loss.log10().item())\n",
    "    \n"
   ]
  },
  {
   "cell_type": "code",
   "execution_count": 305,
   "metadata": {},
   "outputs": [
    {
     "data": {
      "text/plain": [
       "[<matplotlib.lines.Line2D at 0x25fbbd40e20>]"
      ]
     },
     "execution_count": 305,
     "metadata": {},
     "output_type": "execute_result"
    },
    {
     "data": {
      "image/png": "[encoded data removed]",
      "text/plain": [
       "<Figure size 640x480 with 1 Axes>"
      ]
     },
     "metadata": {},
     "output_type": "display_data"
    }
   ],
   "source": [
    "# Each row is 1000 consecutive losses, and we plot their mean\n",
    "plt.plot(torch.tensor(losses).view(-1,500).mean(1))"
   ]
  },
  {
   "cell_type": "code",
   "execution_count": 306,
   "metadata": {},
   "outputs": [],
   "source": [
    "for layer in model.layers:\n",
    "    layer.training = False"
   ]
  },
  {
   "cell_type": "code",
   "execution_count": 307,
   "metadata": {},
   "outputs": [
    {
     "name": "stdout",
     "output_type": "stream",
     "text": [
      "train loss: 1.6524\n",
      "val loss: 2.3029\n"
     ]
    }
   ],
   "source": [
    "\n",
    "@torch.no_grad()\n",
    "def eval_loss(set_name: str):\n",
    "    xs, ys = {\n",
    "        \"train\": (x_train, y_train),\n",
    "        \"val\": (x_val, y_val),\n",
    "        \"test\": (x_test, y_test),\n",
    "    }[set_name]\n",
    "\n",
    "    logits = model(xs)\n",
    "\n",
    "    loss = F.cross_entropy(logits, ys)\n",
    "    print(f\"{set_name} loss: {loss.item():.4f}\")\n",
    "    \n",
    "\n",
    "eval_loss(\"train\")\n",
    "eval_loss(\"val\")"
   ]
  },
  {
   "cell_type": "code",
   "execution_count": 308,
   "metadata": {},
   "outputs": [
    {
     "name": "stdout",
     "output_type": "stream",
     "text": [
      "rhemah\n",
      "nahid\n",
      "collynn\n",
      "shayma\n",
      "shailey\n",
      "felicita\n",
      "gaddie\n",
      "marifemarum\n",
      "hage\n",
      "fraidyn\n",
      "dallyn\n",
      "cameran\n",
      "leilore\n",
      "milah\n",
      "sheri\n",
      "honora\n",
      "kyia\n",
      "berkie\n",
      "anika\n",
      "diqu\n"
     ]
    }
   ],
   "source": [
    "for _ in range(20):\n",
    "    out = []\n",
    "    context = [0] * block_size\n",
    "\n",
    "    while True:\n",
    "        x = torch.tensor(context).view(1, -1)\n",
    "        logits = model(x)\n",
    "\n",
    "        p = F.softmax(logits, dim=1)\n",
    "        idx = torch.multinomial(p, num_samples=1, replacement=True).item()\n",
    "\n",
    "        context = context[1:] + [idx]\n",
    "        if idx == 0:\n",
    "            break\n",
    "\n",
    "        out.append(idx)\n",
    "\n",
    "    print(\"\".join(idx2char[idx] for idx in out))"
   ]
  }
 ],
 "metadata": {
  "kernelspec": {
   "display_name": "venv",
   "language": "python",
   "name": "python3"
  },
  "language_info": {
   "codemirror_mode": {
    "name": "ipython",
    "version": 3
   },
   "file_extension": ".py",
   "mimetype": "text/x-python",
   "name": "python",
   "nbconvert_exporter": "python",
   "pygments_lexer": "ipython3",
   "version": "3.10.0"
  },
  "orig_nbformat": 4,
  "vscode": {
   "interpreter": {
    "hash": "7afcb4a04d08665c2529ae0dc1d5ec01f94baaa4a57a18e0d9f75f04722700b7"
   }
  }
 },
 "nbformat": 4,
 "nbformat_minor": 2
}
