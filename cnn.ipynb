{
 "cells": [
  {
   "cell_type": "code",
   "execution_count": 27,
   "metadata": {},
   "outputs": [
    {
     "data": {
      "text/plain": [
       "(torch.Size([60000, 28, 28]),\n",
       " torch.Size([60000, 10]),\n",
       " torch.Size([10000, 28, 28]),\n",
       " torch.Size([10000, 10]))"
      ]
     },
     "execution_count": 27,
     "metadata": {},
     "output_type": "execute_result"
    }
   ],
   "source": [
    "# Read the dataset\n",
    "\n",
    "test_set_path = r\"data\\bigdatasets\\mnist\\mnist_test.csv\"\n",
    "train_set_path = r\"data\\bigdatasets\\mnist\\mnist_train.csv\"\n",
    "\n",
    "import csv\n",
    "import torch\n",
    "import torch.nn.functional as F\n",
    "\n",
    "\n",
    "def read_csv(path: str, read_rows: int = None):\n",
    "    # Reads the csv and returns a list of lists\n",
    "    # The first row is the header and is ignored\n",
    "    # The csv contains 29 columns the first one is the label and the rest are the pixels\n",
    "\n",
    "    xs, ys = [], []\n",
    "    with open(path, \"r\") as f:\n",
    "        reader = csv.reader(f, delimiter=\",\")\n",
    "        next(reader) # skip the header\n",
    "        for row in reader:\n",
    "            ys.append(int(row[0]))\n",
    "            xs.append([float(x) for x in row[1:]])\n",
    "\n",
    "            if read_rows is not None and len(xs) >= read_rows:\n",
    "                break\n",
    "            \n",
    "    xs = torch.tensor(xs, dtype=torch.float32)\n",
    "    ys =  F.one_hot(torch.tensor(ys), num_classes=10)\n",
    "\n",
    "    return xs.view((-1,28,28)), ys.float()\n",
    "\n",
    "\n",
    "train_xs, train_ys = read_csv(train_set_path)\n",
    "test_xs, test_ys = read_csv(test_set_path)\n",
    "\n",
    "train_xs.shape, train_ys.shape, test_xs.shape, test_ys.shape"
   ]
  },
  {
   "cell_type": "code",
   "execution_count": 28,
   "metadata": {},
   "outputs": [
    {
     "name": "stdout",
     "output_type": "stream",
     "text": [
      "tensor([0., 0., 0., 0., 0., 0., 0., 0., 1., 0.])\n"
     ]
    },
    {
     "data": {
      "text/plain": [
       "<matplotlib.image.AxesImage at 0x26e3c84cdf0>"
      ]
     },
     "execution_count": 28,
     "metadata": {},
     "output_type": "execute_result"
    },
    {
     "data": {
      "image/png": "[encoded data removed]",
      "text/plain": [
       "<Figure size 700x700 with 1 Axes>"
      ]
     },
     "metadata": {},
     "output_type": "display_data"
    }
   ],
   "source": [
    "# Visualize the dataset\n",
    "import matplotlib.pyplot as plt\n",
    "%matplotlib inline\n",
    "\n",
    "\n",
    "plt.figure(figsize=(7,7))\n",
    "\n",
    "print(train_ys[31])\n",
    "plt.imshow(train_xs[31], cmap='Blues')\n"
   ]
  },
  {
   "cell_type": "code",
   "execution_count": 29,
   "metadata": {},
   "outputs": [],
   "source": [
    "# Build the training harness\n",
    "from custom_torch.nn import *\n",
    "from enum import Enum\n",
    "\n",
    "\n",
    "class Trainer:\n",
    "\n",
    "    class Mode(Enum):\n",
    "        TRAIN = 1\n",
    "        FIND_LR = 2\n",
    "\n",
    "\n",
    "    def __init__(self, model: Module, xs: torch.Tensor, ys: torch.Tensor, loss_fn, batch_size=32):\n",
    "        self.__learning_rate = 0.01\n",
    "        self.model = model\n",
    "        self.xs = xs\n",
    "        self.ys = ys\n",
    "        self.loss_fn = loss_fn\n",
    "        self.batch_size = batch_size\n",
    "\n",
    "        # Tracking\n",
    "        self.losses = []\n",
    "\n",
    "\n",
    "    @property\n",
    "    def learning_rate(self):\n",
    "        if len(self.losses) > 100_000:\n",
    "            return 0.001\n",
    "        \n",
    "        return self.__learning_rate\n",
    "\n",
    "    def train(self):\n",
    "        batch_idx = torch.randint(0,self.xs.shape[0], (self.batch_size,))\n",
    "\n",
    "        x = self.xs[batch_idx]\n",
    "        y = self.ys[batch_idx]\n",
    "\n",
    "        logits = self.model(x)\n",
    "        loss = self.loss_fn(logits, y)\n",
    "\n",
    "        for param in self.model.parameters:\n",
    "            param.grad = None\n",
    "\n",
    "        loss.backward()\n",
    "\n",
    "        for param in self.model.parameters:\n",
    "            param.data -= self.learning_rate * param.grad\n",
    "\n",
    "\n",
    "        return loss.item()\n",
    "    \n",
    "    def run(self, epoch = 10_000):\n",
    "        for i in range(epoch):\n",
    "            loss = self.train()\n",
    "            if i % 10_000 == 0:\n",
    "                print(f\"Epoch {i} loss: {loss}\")\n",
    "\n",
    "            self.losses.append(loss)\n",
    "\n",
    "\n",
    "        \n",
    "\n"
   ]
  },
  {
   "attachments": {},
   "cell_type": "markdown",
   "metadata": {},
   "source": [
    "# MLP model\n",
    "- Architecture\n",
    "  - 784 input neurons\n",
    "  - 64 hidden neurons\n",
    "  - 64 hidden neurons\n",
    "  - Softmax output layer with 10 neurons"
   ]
  },
  {
   "cell_type": "code",
   "execution_count": 65,
   "metadata": {},
   "outputs": [
    {
     "name": "stdout",
     "output_type": "stream",
     "text": [
      "torch.Size([784, 64])\n",
      "torch.Size([64])\n",
      "torch.Size([64, 64])\n",
      "torch.Size([64])\n",
      "torch.Size([64, 10])\n",
      "torch.Size([10])\n",
      "Total parameters: 55050\n"
     ]
    }
   ],
   "source": [
    "# Build the model\n",
    "\n",
    "n_hidden_1 = 64\n",
    "n_hidden_2 = 64\n",
    "\n",
    "\n",
    "model = Sequential(\n",
    "    FlattenConsecutive(28),\n",
    "    Linear(28*28, n_hidden_1), Tanh(), #BatchNorm(n_hidden_1),\n",
    "    Linear(n_hidden_1, n_hidden_2), Tanh(), #BatchNorm(n_hidden_2),\n",
    "    Linear(n_hidden_2, 10)\n",
    ")\n",
    "\n",
    "for p in model.parameters:\n",
    "    p.requires_grad = True\n",
    "    print(p.shape)\n",
    "\n",
    "print(\"Total parameters:\", sum(p.numel() for p in model.parameters))\n",
    "\n",
    "trainer = Trainer(model, train_xs, train_ys, F.cross_entropy , batch_size=256)\n"
   ]
  },
  {
   "cell_type": "code",
   "execution_count": 66,
   "metadata": {},
   "outputs": [
    {
     "name": "stdout",
     "output_type": "stream",
     "text": [
      "Epoch 0 loss: 2.4444727897644043\n",
      "Epoch 10000 loss: 0.14548301696777344\n",
      "Epoch 20000 loss: 0.11995182931423187\n",
      "Epoch 30000 loss: 0.10830473154783249\n",
      "Epoch 40000 loss: 0.09678421914577484\n",
      "Epoch 50000 loss: 0.05868829786777496\n",
      "Epoch 60000 loss: 0.05269816517829895\n",
      "Epoch 70000 loss: 0.10232172906398773\n",
      "Epoch 80000 loss: 0.08490315079689026\n",
      "Epoch 90000 loss: 0.020459892228245735\n"
     ]
    }
   ],
   "source": [
    "\n",
    "trainer.run(epoch=100_000)"
   ]
  },
  {
   "cell_type": "code",
   "execution_count": null,
   "metadata": {},
   "outputs": [],
   "source": []
  },
  {
   "cell_type": "code",
   "execution_count": 67,
   "metadata": {},
   "outputs": [
    {
     "data": {
      "text/plain": [
       "[<matplotlib.lines.Line2D at 0x26e52539b40>]"
      ]
     },
     "execution_count": 67,
     "metadata": {},
     "output_type": "execute_result"
    },
    {
     "data": {
      "image/png": "[encoded data removed]",
      "text/plain": [
       "<Figure size 640x480 with 1 Axes>"
      ]
     },
     "metadata": {},
     "output_type": "display_data"
    }
   ],
   "source": [
    "plt.plot(torch.tensor(trainer.losses).view(-1,100).mean(dim=1))"
   ]
  },
  {
   "cell_type": "code",
   "execution_count": 68,
   "metadata": {},
   "outputs": [
    {
     "name": "stdout",
     "output_type": "stream",
     "text": [
      "Accuracy: 0.9827166795730591\n",
      "Loss: 0.05541297793388367\n",
      "Accuracy: 0.9645000100135803\n",
      "Loss: 0.12197837233543396\n"
     ]
    }
   ],
   "source": [
    "# Test the model\n",
    "\n",
    "@torch.no_grad()\n",
    "def test(model, xs, ys):\n",
    "    logits = model(xs)\n",
    "    loss = F.cross_entropy(logits, ys)\n",
    "\n",
    "    preds = torch.argmax(logits, dim=1)\n",
    "    labels = torch.argmax(ys, dim=1)\n",
    "\n",
    "    accuracy = (preds == labels).float().mean()\n",
    "    print(f\"Accuracy: {accuracy.item()}\")\n",
    "    print(f\"Loss: {loss.item()}\")\n",
    "\n",
    "\n",
    "\n",
    "test(model, train_xs, train_ys)\n",
    "test(model, test_xs, test_ys)\n",
    "\n"
   ]
  },
  {
   "cell_type": "code",
   "execution_count": 76,
   "metadata": {},
   "outputs": [
    {
     "name": "stdout",
     "output_type": "stream",
     "text": [
      "Success rate: 0.9645\n"
     ]
    }
   ],
   "source": [
    "@torch.no_grad()\n",
    "def predict(model, xs, ys):\n",
    "    logits = model(xs.view((1,28,28)))\n",
    "    preds = torch.argmax(logits, dim=1)\n",
    "    label = torch.argmax(ys).item()\n",
    "\n",
    "    # print(f\"Prediction:{preds.item()}, Label:{label}\")\n",
    "    return preds.item() == label\n",
    "\n",
    "\n",
    "success = 0\n",
    "for x, y in zip(test_xs, test_ys):\n",
    "    if predict(model, x, y):\n",
    "        success += 1\n",
    "\n",
    "print(f\"Success rate: {success / len(test_xs)}\")\n",
    "    "
   ]
  }
 ],
 "metadata": {
  "kernelspec": {
   "display_name": "venv",
   "language": "python",
   "name": "python3"
  },
  "language_info": {
   "codemirror_mode": {
    "name": "ipython",
    "version": 3
   },
   "file_extension": ".py",
   "mimetype": "text/x-python",
   "name": "python",
   "nbconvert_exporter": "python",
   "pygments_lexer": "ipython3",
   "version": "3.10.0"
  },
  "orig_nbformat": 4,
  "vscode": {
   "interpreter": {
    "hash": "7afcb4a04d08665c2529ae0dc1d5ec01f94baaa4a57a18e0d9f75f04722700b7"
   }
  }
 },
 "nbformat": 4,
 "nbformat_minor": 2
}
