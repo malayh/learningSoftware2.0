{
 "cells": [
  {
   "cell_type": "code",
   "execution_count": 3,
   "metadata": {},
   "outputs": [
    {
     "data": {
      "text/plain": [
       "(torch.Size([60000, 28, 28]),\n",
       " torch.Size([60000, 10]),\n",
       " torch.Size([10000, 28, 28]),\n",
       " torch.Size([10000, 10]))"
      ]
     },
     "execution_count": 3,
     "metadata": {},
     "output_type": "execute_result"
    }
   ],
   "source": [
    "# Read the dataset\n",
    "\n",
    "test_set_path = r\"data\\bigdatasets\\mnist\\mnist_test.csv\"\n",
    "train_set_path = r\"data\\bigdatasets\\mnist\\mnist_train.csv\"\n",
    "\n",
    "import csv\n",
    "import torch\n",
    "import torch.nn.functional as F\n",
    "\n",
    "\n",
    "def read_csv(path: str, read_rows: int = None):\n",
    "    # Reads the csv and returns a list of lists\n",
    "    # The first row is the header and is ignored\n",
    "    # The csv contains 29 columns the first one is the label and the rest are the pixels\n",
    "\n",
    "    xs, ys = [], []\n",
    "    with open(path, \"r\") as f:\n",
    "        reader = csv.reader(f, delimiter=\",\")\n",
    "        next(reader) # skip the header\n",
    "        for row in reader:\n",
    "            ys.append(int(row[0]))\n",
    "            xs.append([float(x) for x in row[1:]])\n",
    "\n",
    "            if read_rows is not None and len(xs) >= read_rows:\n",
    "                break\n",
    "            \n",
    "    xs = torch.tensor(xs, dtype=torch.float32)\n",
    "    ys =  F.one_hot(torch.tensor(ys), num_classes=10)\n",
    "\n",
    "    return xs.view((-1,28,28)), ys.float()\n",
    "\n",
    "\n",
    "train_xs, train_ys = read_csv(train_set_path)\n",
    "test_xs, test_ys = read_csv(test_set_path)\n",
    "\n",
    "train_xs.shape, train_ys.shape, test_xs.shape, test_ys.shape"
   ]
  },
  {
   "cell_type": "code",
   "execution_count": 4,
   "metadata": {},
   "outputs": [
    {
     "name": "stdout",
     "output_type": "stream",
     "text": [
      "tensor([0., 0., 0., 0., 0., 0., 0., 0., 1., 0.])\n"
     ]
    },
    {
     "data": {
      "text/plain": [
       "<matplotlib.image.AxesImage at 0x2b9807664d0>"
      ]
     },
     "execution_count": 4,
     "metadata": {},
     "output_type": "execute_result"
    },
    {
     "data": {
      "image/png": "[encoded data removed]",
      "text/plain": [
       "<Figure size 700x700 with 1 Axes>"
      ]
     },
     "metadata": {},
     "output_type": "display_data"
    }
   ],
   "source": [
    "# Visualize the dataset\n",
    "import matplotlib.pyplot as plt\n",
    "%matplotlib inline\n",
    "\n",
    "\n",
    "plt.figure(figsize=(7,7))\n",
    "\n",
    "print(train_ys[31])\n",
    "plt.imshow(train_xs[31], cmap='Blues')\n"
   ]
  },
  {
   "cell_type": "code",
   "execution_count": 72,
   "metadata": {},
   "outputs": [
    {
     "ename": "SyntaxError",
     "evalue": "'(' was never closed (<ipython-input-72-9915fa42ba20>, line 38)",
     "output_type": "error",
     "traceback": [
      "\u001b[1;36m  Cell \u001b[1;32mIn[72], line 38\u001b[1;36m\u001b[0m\n\u001b[1;33m    logits = self.model(x.view((-1, 28*28))\u001b[0m\n\u001b[1;37m                       ^\u001b[0m\n\u001b[1;31mSyntaxError\u001b[0m\u001b[1;31m:\u001b[0m '(' was never closed\n"
     ]
    }
   ],
   "source": [
    "# Build the training harness\n",
    "from custom_torch.nn import *\n",
    "from enum import Enum\n",
    "\n",
    "\n",
    "class Trainer:\n",
    "\n",
    "    class Mode(Enum):\n",
    "        TRAIN = 1\n",
    "        FIND_LR = 2\n",
    "\n",
    "\n",
    "    def __init__(self, model: Module, xs: torch.Tensor, ys: torch.Tensor, loss_fn, batch_size=32):\n",
    "        self.__learning_rate = 0.01\n",
    "        self.model = model\n",
    "        self.xs = xs\n",
    "        self.ys = ys\n",
    "        self.loss_fn = loss_fn\n",
    "        self.batch_size = batch_size\n",
    "\n",
    "        # Tracking\n",
    "        self.losses = []\n",
    "\n",
    "\n",
    "    @property\n",
    "    def learning_rate(self):\n",
    "        if len(self.losses) > 100_000:\n",
    "            return 0.001\n",
    "        \n",
    "        return self.__learning_rate\n",
    "\n",
    "    def train(self):\n",
    "        batch_idx = torch.randint(0,self.xs.shape[0], (self.batch_size,))\n",
    "\n",
    "        x = self.xs[batch_idx]\n",
    "        y = self.ys[batch_idx]\n",
    "\n",
    "        logits = self.model(x.view((-1, 28*28))\n",
    "        loss = self.loss_fn(logits, y)\n",
    "\n",
    "        for param in self.model.parameters:\n",
    "            param.grad = None\n",
    "\n",
    "        loss.backward()\n",
    "\n",
    "        for param in self.model.parameters:\n",
    "            param.data -= self.learning_rate * param.grad\n",
    "\n",
    "\n",
    "        return loss.item()\n",
    "    \n",
    "    def run(self, epoch = 10_000):\n",
    "        for i in range(epoch):\n",
    "            loss = self.train()\n",
    "            if i % 10_000 == 0:\n",
    "                print(f\"Epoch {i} loss: {loss}\")\n",
    "\n",
    "            self.losses.append(loss)\n",
    "\n",
    "\n",
    "        \n",
    "\n"
   ]
  },
  {
   "attachments": {},
   "cell_type": "markdown",
   "metadata": {},
   "source": [
    "# MLP model\n",
    "- Architecture\n",
    "  - 784 input neurons\n",
    "  - 64 hidden neurons\n",
    "  - 64 hidden neurons\n",
    "  - Softmax output layer with 10 neurons"
   ]
  },
  {
   "cell_type": "code",
   "execution_count": 6,
   "metadata": {},
   "outputs": [
    {
     "name": "stdout",
     "output_type": "stream",
     "text": [
      "torch.Size([784, 64])\n",
      "torch.Size([64])\n",
      "torch.Size([64, 64])\n",
      "torch.Size([64])\n",
      "torch.Size([64, 10])\n",
      "torch.Size([10])\n",
      "Total parameters: 55050\n"
     ]
    }
   ],
   "source": [
    "# Build the model\n",
    "\n",
    "n_hidden_1 = 64\n",
    "n_hidden_2 = 64\n",
    "\n",
    "\n",
    "model = Sequential(\n",
    "    FlattenConsecutive(28),\n",
    "    Linear(28*28, n_hidden_1), Tanh(), #BatchNorm(n_hidden_1),\n",
    "    Linear(n_hidden_1, n_hidden_2), Tanh(), #BatchNorm(n_hidden_2),\n",
    "    Linear(n_hidden_2, 10)\n",
    ")\n",
    "\n",
    "for p in model.parameters:\n",
    "    p.requires_grad = True\n",
    "    print(p.shape)\n",
    "\n",
    "print(\"Total parameters:\", sum(p.numel() for p in model.parameters))\n",
    "\n",
    "trainer = Trainer(model, train_xs, train_ys, F.cross_entropy , batch_size=256)\n"
   ]
  },
  {
   "cell_type": "code",
   "execution_count": 7,
   "metadata": {},
   "outputs": [
    {
     "name": "stdout",
     "output_type": "stream",
     "text": [
      "Epoch 0 loss: 2.396819591522217\n",
      "Epoch 10000 loss: 0.15802393853664398\n",
      "Epoch 20000 loss: 0.09446746110916138\n",
      "Epoch 30000 loss: 0.1554972529411316\n",
      "Epoch 40000 loss: 0.08348728716373444\n"
     ]
    }
   ],
   "source": [
    "\n",
    "trainer.run(epoch=50_000)"
   ]
  },
  {
   "cell_type": "code",
   "execution_count": null,
   "metadata": {},
   "outputs": [],
   "source": []
  },
  {
   "cell_type": "code",
   "execution_count": 8,
   "metadata": {},
   "outputs": [
    {
     "data": {
      "text/plain": [
       "[<matplotlib.lines.Line2D at 0x2b980c83670>]"
      ]
     },
     "execution_count": 8,
     "metadata": {},
     "output_type": "execute_result"
    },
    {
     "data": {
      "image/png": "[encoded data removed]",
      "text/plain": [
       "<Figure size 640x480 with 1 Axes>"
      ]
     },
     "metadata": {},
     "output_type": "display_data"
    }
   ],
   "source": [
    "plt.plot(torch.tensor(trainer.losses).view(-1,100).mean(dim=1))"
   ]
  },
  {
   "cell_type": "code",
   "execution_count": 9,
   "metadata": {},
   "outputs": [
    {
     "name": "stdout",
     "output_type": "stream",
     "text": [
      "Accuracy: 0.9721666574478149\n",
      "Loss: 0.08735964447259903\n",
      "Accuracy: 0.9605000019073486\n",
      "Loss: 0.13327090442180634\n"
     ]
    }
   ],
   "source": [
    "# Test the model\n",
    "\n",
    "@torch.no_grad()\n",
    "def test(model, xs, ys):\n",
    "    logits = model(xs)\n",
    "    loss = F.cross_entropy(logits, ys)\n",
    "\n",
    "    preds = torch.argmax(logits, dim=1)\n",
    "    labels = torch.argmax(ys, dim=1)\n",
    "\n",
    "    accuracy = (preds == labels).float().mean()\n",
    "    print(f\"Accuracy: {accuracy.item()}\")\n",
    "    print(f\"Loss: {loss.item()}\")\n",
    "\n",
    "\n",
    "\n",
    "test(model, train_xs, train_ys)\n",
    "test(model, test_xs, test_ys)\n",
    "\n"
   ]
  },
  {
   "cell_type": "code",
   "execution_count": 10,
   "metadata": {},
   "outputs": [
    {
     "name": "stdout",
     "output_type": "stream",
     "text": [
      "Success rate: 0.9605\n"
     ]
    }
   ],
   "source": [
    "@torch.no_grad()\n",
    "def predict(model, xs, ys):\n",
    "    logits = model(xs.view((1,28,28)))\n",
    "    preds = torch.argmax(logits, dim=1)\n",
    "    label = torch.argmax(ys).item()\n",
    "\n",
    "    # print(f\"Prediction:{preds.item()}, Label:{label}\")\n",
    "    return preds.item() == label\n",
    "\n",
    "\n",
    "success = 0\n",
    "for x, y in zip(test_xs, test_ys):\n",
    "    if predict(model, x, y):\n",
    "        success += 1\n",
    "\n",
    "print(f\"Success rate: {success / len(test_xs)}\")\n",
    "    "
   ]
  },
  {
   "attachments": {},
   "cell_type": "markdown",
   "metadata": {},
   "source": [
    "# Accuracy of models\n",
    "- MLP: 96.45%"
   ]
  },
  {
   "attachments": {},
   "cell_type": "markdown",
   "metadata": {},
   "source": [
    "# CNN model\n",
    "\n",
    "### Todo\n",
    "- [ ] Implement CNN layer\n",
    "- [ ] Implement Max Pooling layer\n",
    "- [ ] Train the model"
   ]
  },
  {
   "cell_type": "code",
   "execution_count": 94,
   "metadata": {},
   "outputs": [],
   "source": [
    "class Conv(Module):\n",
    "    def __init__(self, input_shape: tuple, kernel_size : int, depth: int):\n",
    "        \"\"\"\n",
    "        depth: number of filters\n",
    "        input_shape: (depth, height, width)\n",
    "\n",
    "        \"\"\"\n",
    "\n",
    "        input_depth, input_height, input_width = input_shape \n",
    "\n",
    "        self.depth = depth\n",
    "        self.input_depth = input_depth\n",
    "        self.input_shape = input_shape\n",
    "\n",
    "        self.output_shape = (depth, input_height - kernel_size +1 , input_width - kernel_size +1)\n",
    "        self.kernal_shape = (depth, input_depth, kernel_size, kernel_size)\n",
    "\n",
    "        self.kernals = torch.randn(self.kernal_shape)\n",
    "        self.bias = torch.randn(self.output_shape)\n",
    "        \n",
    "\n",
    "    def __call__(self, x):\n",
    "        out = self.bias\n",
    "        for i in range(self.depth):\n",
    "            for j in range(self.input_depth):\n",
    "                out[i] += F.conv2d(x[j], self.kernals[i][j], padding=0)\n",
    "\n",
    "        # x.shape = (batch, in_channels, height, width)\n",
    "        # self.weights.shape = (out_channels, in_channels, kernel_size, kernel_size)\n",
    "        # self.bias.shape = (out_channels)\n",
    "\n",
    "        # out.shape = (batch, out_channels, height, width)\n",
    "\n",
    "        # out = F.conv2d(x, self.weights, self.bias, self.stride, self.padding)\n",
    "        # return out\n",
    "\n",
    "        # return F.conv2d(x, self.weights, self.bias, self.stride, self.padding)\n",
    "    \n",
    "    @property\n",
    "    def parameters(self):\n",
    "        return [self.kernals, self.bias]\n",
    "    \n",
    "\n",
    "class MaxPool2d(Module):\n",
    "    def __init__(self, kernel_size, stride=1, padding=1):\n",
    "        self.kernel_size = kernel_size\n",
    "        self.stride = stride\n",
    "        self.padding = padding\n",
    "\n",
    "    def __call__(self, x):\n",
    "        return F.max_pool2d(x, self.kernel_size, self.stride, self.padding)\n",
    "    \n",
    "    @property\n",
    "    def parameters(self):\n",
    "        return []\n",
    "    \n",
    "\n",
    "class ReLu(Module):\n",
    "    def __call__(self, x):\n",
    "        return F.relu(x)\n",
    "    \n",
    "    @property\n",
    "    def parameters(self):\n",
    "        return []\n",
    "    \n",
    "class Flatten(Module):\n",
    "    def __call__(self, x):\n",
    "        return x.flatten(start_dim=1)\n",
    "    \n",
    "    @property\n",
    "    def parameters(self):\n",
    "        return []\n",
    "    \n"
   ]
  },
  {
   "cell_type": "code",
   "execution_count": 95,
   "metadata": {},
   "outputs": [
    {
     "name": "stdout",
     "output_type": "stream",
     "text": [
      "torch.Size([3, 1, 3, 3])\n",
      "torch.Size([3, 26, 26])\n",
      "Total parameters: 2055\n"
     ]
    }
   ],
   "source": [
    "model = Sequential(\n",
    "    Conv((1,28,28), 3, 3),\n",
    ")\n",
    "\n",
    "\n",
    "for p in model.parameters:\n",
    "    p.requires_grad = True\n",
    "    print(p.shape)\n",
    "\n",
    "print(\"Total parameters:\", sum(p.numel() for p in model.parameters))"
   ]
  },
  {
   "cell_type": "code",
   "execution_count": 97,
   "metadata": {},
   "outputs": [
    {
     "ename": "RuntimeError",
     "evalue": "weight should have at least three dimensions",
     "output_type": "error",
     "traceback": [
      "\u001b[1;31m---------------------------------------------------------------------------\u001b[0m",
      "\u001b[1;31mRuntimeError\u001b[0m                              Traceback (most recent call last)",
      "Cell \u001b[1;32mIn[97], line 13\u001b[0m\n\u001b[0;32m     10\u001b[0m y \u001b[39m=\u001b[39m train_ys[batch_idx]\n\u001b[0;32m     12\u001b[0m \u001b[39m# x.shape\u001b[39;00m\n\u001b[1;32m---> 13\u001b[0m model(torch\u001b[39m.\u001b[39;49mrandn(\u001b[39m1\u001b[39;49m,\u001b[39m1\u001b[39;49m,\u001b[39m28\u001b[39;49m,\u001b[39m28\u001b[39;49m))\n\u001b[0;32m     14\u001b[0m \u001b[39m# logits = model(x.view((1,1,28,28)))\u001b[39;00m\n\u001b[0;32m     15\u001b[0m \u001b[39m# loss = F.cross_entropy(logits, y)\u001b[39;00m\n\u001b[0;32m     16\u001b[0m \n\u001b[1;32m   (...)\u001b[0m\n\u001b[0;32m     27\u001b[0m \u001b[39m# if i % 1000 == 0:\u001b[39;00m\n\u001b[0;32m     28\u001b[0m \u001b[39m#     print(f\"Epoch {i} loss: {loss.item()}\")\u001b[39;00m\n",
      "File \u001b[1;32mc:\\Code\\learningSoftware2.0\\custom_torch\\nn.py:120\u001b[0m, in \u001b[0;36mSequential.__call__\u001b[1;34m(self, x)\u001b[0m\n\u001b[0;32m    118\u001b[0m \u001b[39mdef\u001b[39;00m \u001b[39m__call__\u001b[39m(\u001b[39mself\u001b[39m, x):\n\u001b[0;32m    119\u001b[0m     \u001b[39mfor\u001b[39;00m layer \u001b[39min\u001b[39;00m \u001b[39mself\u001b[39m\u001b[39m.\u001b[39mlayers:\n\u001b[1;32m--> 120\u001b[0m         x \u001b[39m=\u001b[39m layer(x)\n\u001b[0;32m    121\u001b[0m     \u001b[39mself\u001b[39m\u001b[39m.\u001b[39mout \u001b[39m=\u001b[39m x\n\u001b[0;32m    122\u001b[0m     \u001b[39mreturn\u001b[39;00m \u001b[39mself\u001b[39m\u001b[39m.\u001b[39mout\n",
      "Cell \u001b[1;32mIn[94], line 26\u001b[0m, in \u001b[0;36mConv.__call__\u001b[1;34m(self, x)\u001b[0m\n\u001b[0;32m     24\u001b[0m \u001b[39mfor\u001b[39;00m i \u001b[39min\u001b[39;00m \u001b[39mrange\u001b[39m(\u001b[39mself\u001b[39m\u001b[39m.\u001b[39mdepth):\n\u001b[0;32m     25\u001b[0m     \u001b[39mfor\u001b[39;00m j \u001b[39min\u001b[39;00m \u001b[39mrange\u001b[39m(\u001b[39mself\u001b[39m\u001b[39m.\u001b[39minput_depth):\n\u001b[1;32m---> 26\u001b[0m         out[i] \u001b[39m+\u001b[39m\u001b[39m=\u001b[39m F\u001b[39m.\u001b[39;49mconv2d(x[j], \u001b[39mself\u001b[39;49m\u001b[39m.\u001b[39;49mkernals[i][j], padding\u001b[39m=\u001b[39;49m\u001b[39m0\u001b[39;49m)\n",
      "\u001b[1;31mRuntimeError\u001b[0m: weight should have at least three dimensions"
     ]
    }
   ],
   "source": [
    "    \n",
    "batch_size = 256\n",
    "learning_rate = 0.001\n",
    "losses = []\n",
    "\n",
    "# for i in range(10):\n",
    "\n",
    "batch_idx = torch.randint(0,train_xs.shape[0], (batch_size,))\n",
    "\n",
    "x = train_xs[batch_idx]\n",
    "y = train_ys[batch_idx]\n",
    "\n",
    "# x.shape\n",
    "model(torch.randn(1,1,28,28))\n",
    "# logits = model(x.view((1,1,28,28)))\n",
    "# loss = F.cross_entropy(logits, y)\n",
    "\n",
    "# for param in model.parameters:\n",
    "#     param.grad = None\n",
    "\n",
    "# loss.backward()\n",
    "\n",
    "# for param in model.parameters:\n",
    "#     param.data -= learning_rate * param.grad\n",
    "\n",
    "\n",
    "# losses.append(loss.item())\n",
    "# if i % 1000 == 0:\n",
    "#     print(f\"Epoch {i} loss: {loss.item()}\")\n"
   ]
  }
 ],
 "metadata": {
  "kernelspec": {
   "display_name": "venv",
   "language": "python",
   "name": "python3"
  },
  "language_info": {
   "codemirror_mode": {
    "name": "ipython",
    "version": 3
   },
   "file_extension": ".py",
   "mimetype": "text/x-python",
   "name": "python",
   "nbconvert_exporter": "python",
   "pygments_lexer": "ipython3",
   "version": "3.10.0"
  },
  "orig_nbformat": 4,
  "vscode": {
   "interpreter": {
    "hash": "7afcb4a04d08665c2529ae0dc1d5ec01f94baaa4a57a18e0d9f75f04722700b7"
   }
  }
 },
 "nbformat": 4,
 "nbformat_minor": 2
}
