{
 "cells": [
  {
   "cell_type": "code",
   "execution_count": 254,
   "id": "90a3f12f",
   "metadata": {},
   "outputs": [],
   "source": [
    "import math\n",
    "import matplotlib.pyplot as plt\n",
    "import numpy as np\n",
    "%matplotlib inline"
   ]
  },
  {
   "cell_type": "code",
   "execution_count": 255,
   "id": "208ba407",
   "metadata": {},
   "outputs": [],
   "source": [
    "def f(x):\n",
    "    return 3*x**2 + 4*x + 5"
   ]
  },
  {
   "cell_type": "code",
   "execution_count": 256,
   "id": "9caac1da",
   "metadata": {},
   "outputs": [
    {
     "data": {
      "text/plain": [
       "[<matplotlib.lines.Line2D at 0x1b57abd2a70>]"
      ]
     },
     "execution_count": 256,
     "metadata": {},
     "output_type": "execute_result"
    },
    {
     "data": {
      "image/png": "[encoded data removed]",
      "text/plain": [
       "<Figure size 640x480 with 1 Axes>"
      ]
     },
     "metadata": {},
     "output_type": "display_data"
    }
   ],
   "source": [
    "xs = np.arange(-10, 10, 0.25)\n",
    "ys = f(xs)\n",
    "plt.plot(xs, ys)"
   ]
  },
  {
   "cell_type": "markdown",
   "id": "b59bc126",
   "metadata": {},
   "source": [
    "# Derivative\n",
    "Devrivative of a function `f(x)` is a measure how sensitive it is to any change in `x`\n",
    "\n",
    "Following is the definiation of a derivative"
   ]
  },
  {
   "cell_type": "code",
   "execution_count": 257,
   "id": "2a4d6b1b",
   "metadata": {},
   "outputs": [
    {
     "data": {
      "text/plain": [
       "22.000300000044604"
      ]
     },
     "execution_count": 257,
     "metadata": {},
     "output_type": "execute_result"
    }
   ],
   "source": [
    "x = 3\n",
    "h = 0.0001\n",
    "slope = (f(x+h) - f(x)) / h\n",
    "slope"
   ]
  },
  {
   "cell_type": "code",
   "execution_count": 258,
   "id": "5adf267d",
   "metadata": {},
   "outputs": [
    {
     "name": "stdout",
     "output_type": "stream",
     "text": [
      "-3.000000000010772\n"
     ]
    }
   ],
   "source": [
    "h = 0.0001\n",
    "\n",
    "# complex example\n",
    "a = 2.0\n",
    "b = -3.0\n",
    "c = 10\n",
    "d = a*b + c\n",
    "\n",
    "# derivative of d wrt a\n",
    "d1 = a*b + c\n",
    "a += h\n",
    "d2 = a*b + c\n",
    "slop = (d2 - d1) / h\n",
    "print(slop)\n",
    "\n"
   ]
  },
  {
   "cell_type": "markdown",
   "id": "5967938c",
   "metadata": {},
   "source": [
    "# Let's build micrograd"
   ]
  },
  {
   "cell_type": "code",
   "execution_count": 308,
   "id": "8000f96b",
   "metadata": {},
   "outputs": [],
   "source": [
    "\n",
    "from __future__ import annotations\n",
    "from graphviz import Digraph\n",
    "import math\n",
    "\n",
    "class Value:\n",
    "    def __init__(self, data, children=(), operation='', label=None):\n",
    "        self.data = data\n",
    "        self.grad = 0.0\n",
    "        self.label = label\n",
    "\n",
    "        # keep track of what contributed to this value\n",
    "        self._prev = set(children)\n",
    "\n",
    "        # what was the operation between the children to get this value\n",
    "        self._operation = operation\n",
    "\n",
    "\n",
    "        # keep track of the function to call to compute the gradient\n",
    "        self._backward = lambda: None\n",
    "\n",
    "\n",
    "\n",
    "    def __repr__(self):\n",
    "        return f\"Value({self.label},{self.data})\"\n",
    "\n",
    "    def __add__(self, other):\n",
    "        other = other if isinstance(other, Value) else Value(other)\n",
    "\n",
    "        out = Value(self.data + other.data, (self, other), '+')\n",
    "\n",
    "        def _backward():\n",
    "            # why doing += ? \n",
    "            # because if the same variable contributes to multiple values and calling backwards multiple times overwrites the gradient, but we want to accumulate the gradient\n",
    "            self.grad += 1.0 * out.grad\n",
    "            other.grad += 1.0 * out.grad\n",
    "\n",
    "        out._backward = _backward\n",
    "        return out\n",
    "\n",
    "    def __radd__(self, other):\n",
    "        return self + other\n",
    "        \n",
    "    def __mul__(self, other):\n",
    "        other = other if isinstance(other, Value) else Value(other)\n",
    "        out = Value(self.data * other.data, (self, other), '*')\n",
    "\n",
    "        def _backward():\n",
    "            self.grad += other.data * out.grad\n",
    "            other.grad += self.data * out.grad\n",
    "\n",
    "        out._backward = _backward\n",
    "        return out\n",
    "\n",
    "    def __rmul__(self, other):\n",
    "        return self * other\n",
    "\n",
    "    def __neg__(self):\n",
    "        return self * -1.0\n",
    "\n",
    "    def __sub__(self, other):\n",
    "        return self + (-other)\n",
    "\n",
    "    def __truediv__(self, other):\n",
    "        return self * other**-1\n",
    "\n",
    "    def __pow__(self, other):\n",
    "        assert isinstance(other, (int, float))\n",
    "\n",
    "        x = self.data\n",
    "        y = other\n",
    "        out = Value(x**y, (self,), '**')\n",
    "\n",
    "        def _backward():\n",
    "            self.grad += y * x**(y-1) * out.grad\n",
    "            # other.grad += x**y * math.log(x) * out.grad \n",
    "\n",
    "        out._backward = _backward\n",
    "        return out\n",
    "\n",
    "    def tanh(self):\n",
    "        \n",
    "        x = self.data\n",
    "        t = ( math.exp(2*x) - 1 ) / ( math.exp(2*x) + 1 )\n",
    "        out = Value(t, (self,), 'tanh')\n",
    "\n",
    "        def _backward():\n",
    "            self.grad += (1 - t**2) * out.grad\n",
    "\n",
    "        out._backward = _backward\n",
    "        return out\n",
    "\n",
    "    def exp(self):\n",
    "        x = self.data\n",
    "        e = math.exp(x)\n",
    "        out = Value(e, (self,), 'exp')\n",
    "\n",
    "        def _backward():\n",
    "            self.grad += e * out.grad\n",
    "\n",
    "        out._backward = _backward\n",
    "        return out\n",
    "\n",
    "    def _trace(self):\n",
    "        nodes, edges = set(), set()\n",
    "\n",
    "        def _traverse(node):\n",
    "            if node in nodes:\n",
    "                return\n",
    "\n",
    "            nodes.add(node)\n",
    "            for prev in node._prev:\n",
    "                edges.add((prev, node))\n",
    "                _traverse(prev)\n",
    "\n",
    "        _traverse(self)\n",
    "        return nodes, edges\n",
    "\n",
    "    def graph(self):\n",
    "        dot = Digraph(format='svg',graph_attr={'rankdir':'LR'}) # LR = left to right\n",
    "        nodes, edges = self._trace()\n",
    "\n",
    "        for node in nodes:\n",
    "            uid = str(id(node))\n",
    "            # for value create a rectangle\n",
    "            dot.node(uid, label=f\"{node.label}| data: {node.data:.2f} | grad: {node.grad:.2f}\",  shape='record')\n",
    "\n",
    "            # create a node for the operation\n",
    "            if node._operation:\n",
    "                dot.node(name=uid + node._operation, label=node._operation)\n",
    "                dot.edge(uid + node._operation, uid)\n",
    "\n",
    "        for src, dst in edges:\n",
    "            dot.edge(str(id(src)), str(id(dst)) + dst._operation)\n",
    "\n",
    "        return dot\n",
    "\n",
    "    def topological_sort(self) -> list[Value]:\n",
    "        sorted_nodes = []\n",
    "        visited = set()\n",
    "        def _build_top(node):\n",
    "            if node in visited:\n",
    "                return\n",
    "\n",
    "            if not isinstance(node, Value):\n",
    "                return\n",
    "\n",
    "            visited.add(node)\n",
    "            for prev in node._prev:\n",
    "                _build_top(prev)\n",
    "\n",
    "            sorted_nodes.append(node)\n",
    "\n",
    "        _build_top(self)\n",
    "        return sorted_nodes\n",
    "\n",
    "    def backward(self):\n",
    "        # topological sort\n",
    "        sorted_nodes = reversed(self.topological_sort())\n",
    "\n",
    "        # start with the gradient of 1\n",
    "        self.grad = 1.0\n",
    "\n",
    "        # traverse the graph in reverse topological order\n",
    "        for node in sorted_nodes:\n",
    "            node._backward()\n",
    "        \n",
    "\n"
   ]
  },
  {
   "cell_type": "code",
   "execution_count": 309,
   "id": "8c379fe0",
   "metadata": {},
   "outputs": [],
   "source": [
    "\n",
    "a = Value(2.0, label='a')\n",
    "b = Value(-3.0, label='b')\n",
    "c = Value(10, label='c')\n",
    "\n",
    "d = a*b + c; d.label = 'd'\n",
    "\n",
    "f = Value(3, label='f')\n",
    "L = d + f ; L.label = 'L'\n",
    "\n",
    "# L.graph()"
   ]
  },
  {
   "cell_type": "code",
   "execution_count": 310,
   "id": "73a2ae1f",
   "metadata": {},
   "outputs": [
    {
     "data": {
      "text/plain": [
       "Value(None,0.3333333333333333)"
      ]
     },
     "execution_count": 310,
     "metadata": {},
     "output_type": "execute_result"
    }
   ],
   "source": [
    "a = Value(2.0, label='a')\n",
    "(a - 1) / (a + 1)"
   ]
  },
  {
   "cell_type": "code",
   "execution_count": 311,
   "id": "c0206c67",
   "metadata": {},
   "outputs": [],
   "source": [
    "# input\n",
    "x1 = Value(2.0, label='x1')\n",
    "x2 = Value(0.0, label='x2')\n",
    "\n",
    "# weights\n",
    "w1 = Value(-3.0, label='w1')\n",
    "w2 = Value(1.0, label='w2')\n",
    "\n",
    "# bias\n",
    "b = Value(6.8813735870195432, label='b')\n",
    "\n",
    "# cell body, withou activation\n",
    "x1w1 = x1*w1; x1w1.label = 'x1w1'\n",
    "x2w2 = x2*w2; x2w2.label = 'x2w2'\n",
    "x1w1_x2w2 = x1w1 + x2w2; x1w1_x2w2.label = 'x1w1_x2w2'\n",
    "n = x1w1_x2w2 + b; n.label = 'n'\n",
    "\n",
    "# spelling out tanh\n",
    "e = (n*2).exp(); e.label = 'e'\n",
    "o = (e - 1)/(e + 1) ; o.label = 'o'\n",
    "\n",
    "\n"
   ]
  },
  {
   "cell_type": "code",
   "execution_count": 312,
   "id": "444cb349",
   "metadata": {},
   "outputs": [
    {
     "data": {
      "image/svg+xml": "<?xml version=\"1.0\" encoding=\"UTF-8\" standalone=\"no\"?>\n<!DOCTYPE svg PUBLIC \"-//W3C//DTD SVG 1.1//EN\"\n \"http://www.w3.org/Graphics/SVG/1.1/DTD/svg11.dtd\">\n<!-- Generated by graphviz version 7.0.6 (20230106.0513)\n -->\n<!-- Pages: 1 -->\n<svg width=\"1712pt\" height=\"342pt\"\n viewBox=\"0.00 0.00 1712.00 342.00\" xmlns=\"http://www.w3.org/2000/svg\" xmlns:xlink=\"http://www.w3.org/1999/xlink\">\n<g id=\"graph0\" class=\"graph\" transform=\"scale(1 1) rotate(0) translate(4 338)\">\n<polygon fill=\"white\" stroke=\"none\" points=\"-4,4 -4,-338 1708,-338 1708,4 -4,4\"/>\n<!-- 1877014796304 -->\n<g id=\"node1\" class=\"node\">\n<title>1877014796304</title>\n<polygon fill=\"none\" stroke=\"black\" points=\"614,-88.5 614,-157.5 686,-157.5 686,-88.5 614,-88.5\"/>\n<text text-anchor=\"middle\" x=\"650\" y=\"-142.3\" font-family=\"Times New Roman,serif\" font-size=\"14.00\">n</text>\n<polyline fill=\"none\" stroke=\"black\" points=\"614,-134.5 686,-134.5\"/>\n<text text-anchor=\"middle\" x=\"650\" y=\"-119.3\" font-family=\"Times New Roman,serif\" font-size=\"14.00\">data: 0.88</text>\n<polyline fill=\"none\" stroke=\"black\" points=\"614,-111.5 686,-111.5\"/>\n<text text-anchor=\"middle\" x=\"650\" y=\"-96.3\" font-family=\"Times New Roman,serif\" font-size=\"14.00\">grad: 0.50</text>\n</g>\n<!-- 1877014803600* -->\n<g id=\"node5\" class=\"node\">\n<title>1877014803600*</title>\n<ellipse fill=\"none\" stroke=\"black\" cx=\"749\" cy=\"-167\" rx=\"27\" ry=\"18\"/>\n<text text-anchor=\"middle\" x=\"749\" y=\"-163.3\" font-family=\"Times New Roman,serif\" font-size=\"14.00\">*</text>\n</g>\n<!-- 1877014796304&#45;&gt;1877014803600* -->\n<g id=\"edge26\" class=\"edge\">\n<title>1877014796304&#45;&gt;1877014803600*</title>\n<path fill=\"none\" stroke=\"black\" d=\"M685.75,-138.76C695.54,-143.2 706.15,-148.02 715.79,-152.39\"/>\n<polygon fill=\"black\" stroke=\"black\" points=\"714.24,-155.53 724.79,-156.47 717.13,-149.15 714.24,-155.53\"/>\n</g>\n<!-- 1877014796304+ -->\n<g id=\"node2\" class=\"node\">\n<title>1877014796304+</title>\n<ellipse fill=\"none\" stroke=\"black\" cx=\"551\" cy=\"-123\" rx=\"27\" ry=\"18\"/>\n<text text-anchor=\"middle\" x=\"551\" y=\"-119.3\" font-family=\"Times New Roman,serif\" font-size=\"14.00\">+</text>\n</g>\n<!-- 1877014796304+&#45;&gt;1877014796304 -->\n<g id=\"edge1\" class=\"edge\">\n<title>1877014796304+&#45;&gt;1877014796304</title>\n<path fill=\"none\" stroke=\"black\" d=\"M578.25,-123C585.89,-123 594.46,-123 602.94,-123\"/>\n<polygon fill=\"black\" stroke=\"black\" points=\"602.83,-126.5 612.83,-123 602.83,-119.5 602.83,-126.5\"/>\n</g>\n<!-- 1877014803024 -->\n<g id=\"node3\" class=\"node\">\n<title>1877014803024</title>\n<polygon fill=\"none\" stroke=\"black\" points=\"2.5,-88.5 2.5,-157.5 74.5,-157.5 74.5,-88.5 2.5,-88.5\"/>\n<text text-anchor=\"middle\" x=\"38.5\" y=\"-142.3\" font-family=\"Times New Roman,serif\" font-size=\"14.00\">w2</text>\n<polyline fill=\"none\" stroke=\"black\" points=\"2.5,-134.5 74.5,-134.5\"/>\n<text text-anchor=\"middle\" x=\"38.5\" y=\"-119.3\" font-family=\"Times New Roman,serif\" font-size=\"14.00\">data: 1.00</text>\n<polyline fill=\"none\" stroke=\"black\" points=\"2.5,-111.5 74.5,-111.5\"/>\n<text text-anchor=\"middle\" x=\"38.5\" y=\"-96.3\" font-family=\"Times New Roman,serif\" font-size=\"14.00\">grad: 0.00</text>\n</g>\n<!-- 1877014796688* -->\n<g id=\"node26\" class=\"node\">\n<title>1877014796688*</title>\n<ellipse fill=\"none\" stroke=\"black\" cx=\"140\" cy=\"-123\" rx=\"27\" ry=\"18\"/>\n<text text-anchor=\"middle\" x=\"140\" y=\"-119.3\" font-family=\"Times New Roman,serif\" font-size=\"14.00\">*</text>\n</g>\n<!-- 1877014803024&#45;&gt;1877014796688* -->\n<g id=\"edge11\" class=\"edge\">\n<title>1877014803024&#45;&gt;1877014796688*</title>\n<path fill=\"none\" stroke=\"black\" d=\"M74.3,-123C83.03,-123 92.43,-123 101.3,-123\"/>\n<polygon fill=\"black\" stroke=\"black\" points=\"101.02,-126.5 111.02,-123 101.02,-119.5 101.02,-126.5\"/>\n</g>\n<!-- 1877014803600 -->\n<g id=\"node4\" class=\"node\">\n<title>1877014803600</title>\n<polygon fill=\"none\" stroke=\"black\" points=\"812,-132.5 812,-201.5 884,-201.5 884,-132.5 812,-132.5\"/>\n<text text-anchor=\"middle\" x=\"848\" y=\"-186.3\" font-family=\"Times New Roman,serif\" font-size=\"14.00\">None</text>\n<polyline fill=\"none\" stroke=\"black\" points=\"812,-178.5 884,-178.5\"/>\n<text text-anchor=\"middle\" x=\"848\" y=\"-163.3\" font-family=\"Times New Roman,serif\" font-size=\"14.00\">data: 1.76</text>\n<polyline fill=\"none\" stroke=\"black\" points=\"812,-155.5 884,-155.5\"/>\n<text text-anchor=\"middle\" x=\"848\" y=\"-140.3\" font-family=\"Times New Roman,serif\" font-size=\"14.00\">grad: 0.25</text>\n</g>\n<!-- 1877014799712exp -->\n<g id=\"node22\" class=\"node\">\n<title>1877014799712exp</title>\n<ellipse fill=\"none\" stroke=\"black\" cx=\"947\" cy=\"-167\" rx=\"27\" ry=\"18\"/>\n<text text-anchor=\"middle\" x=\"947\" y=\"-163.3\" font-family=\"Times New Roman,serif\" font-size=\"14.00\">exp</text>\n</g>\n<!-- 1877014803600&#45;&gt;1877014799712exp -->\n<g id=\"edge18\" class=\"edge\">\n<title>1877014803600&#45;&gt;1877014799712exp</title>\n<path fill=\"none\" stroke=\"black\" d=\"M883.75,-167C891.71,-167 900.21,-167 908.29,-167\"/>\n<polygon fill=\"black\" stroke=\"black\" points=\"908.2,-170.5 918.2,-167 908.2,-163.5 908.2,-170.5\"/>\n</g>\n<!-- 1877014803600*&#45;&gt;1877014803600 -->\n<g id=\"edge2\" class=\"edge\">\n<title>1877014803600*&#45;&gt;1877014803600</title>\n<path fill=\"none\" stroke=\"black\" d=\"M776.25,-167C783.89,-167 792.46,-167 800.94,-167\"/>\n<polygon fill=\"black\" stroke=\"black\" points=\"800.83,-170.5 810.83,-167 800.83,-163.5 800.83,-170.5\"/>\n</g>\n<!-- 1877014802592 -->\n<g id=\"node6\" class=\"node\">\n<title>1877014802592</title>\n<polygon fill=\"none\" stroke=\"black\" points=\"1,-264.5 1,-333.5 76,-333.5 76,-264.5 1,-264.5\"/>\n<text text-anchor=\"middle\" x=\"38.5\" y=\"-318.3\" font-family=\"Times New Roman,serif\" font-size=\"14.00\">w1</text>\n<polyline fill=\"none\" stroke=\"black\" points=\"1,-310.5 76,-310.5\"/>\n<text text-anchor=\"middle\" x=\"38.5\" y=\"-295.3\" font-family=\"Times New Roman,serif\" font-size=\"14.00\">data: &#45;3.00</text>\n<polyline fill=\"none\" stroke=\"black\" points=\"1,-287.5 76,-287.5\"/>\n<text text-anchor=\"middle\" x=\"38.5\" y=\"-272.3\" font-family=\"Times New Roman,serif\" font-size=\"14.00\">grad: 1.00</text>\n</g>\n<!-- 1877014800096* -->\n<g id=\"node15\" class=\"node\">\n<title>1877014800096*</title>\n<ellipse fill=\"none\" stroke=\"black\" cx=\"140\" cy=\"-211\" rx=\"27\" ry=\"18\"/>\n<text text-anchor=\"middle\" x=\"140\" y=\"-207.3\" font-family=\"Times New Roman,serif\" font-size=\"14.00\">*</text>\n</g>\n<!-- 1877014802592&#45;&gt;1877014800096* -->\n<g id=\"edge25\" class=\"edge\">\n<title>1877014802592&#45;&gt;1877014800096*</title>\n<path fill=\"none\" stroke=\"black\" d=\"M75.99,-266.73C88.8,-255.4 102.89,-242.94 114.48,-232.68\"/>\n<polygon fill=\"black\" stroke=\"black\" points=\"116.5,-235.57 121.67,-226.33 111.86,-230.33 116.5,-235.57\"/>\n</g>\n<!-- 1877014791360 -->\n<g id=\"node7\" class=\"node\">\n<title>1877014791360</title>\n<polygon fill=\"none\" stroke=\"black\" points=\"1213,-96.5 1213,-165.5 1290,-165.5 1290,-96.5 1213,-96.5\"/>\n<text text-anchor=\"middle\" x=\"1251.5\" y=\"-150.3\" font-family=\"Times New Roman,serif\" font-size=\"14.00\">None</text>\n<polyline fill=\"none\" stroke=\"black\" points=\"1213,-142.5 1290,-142.5\"/>\n<text text-anchor=\"middle\" x=\"1251.5\" y=\"-127.3\" font-family=\"Times New Roman,serif\" font-size=\"14.00\">data: 6.83</text>\n<polyline fill=\"none\" stroke=\"black\" points=\"1213,-119.5 1290,-119.5\"/>\n<text text-anchor=\"middle\" x=\"1251.5\" y=\"-104.3\" font-family=\"Times New Roman,serif\" font-size=\"14.00\">grad: &#45;0.10</text>\n</g>\n<!-- 1877014791408** -->\n<g id=\"node11\" class=\"node\">\n<title>1877014791408**</title>\n<ellipse fill=\"none\" stroke=\"black\" cx=\"1362\" cy=\"-131\" rx=\"27\" ry=\"18\"/>\n<text text-anchor=\"middle\" x=\"1362\" y=\"-127.3\" font-family=\"Times New Roman,serif\" font-size=\"14.00\">**</text>\n</g>\n<!-- 1877014791360&#45;&gt;1877014791408** -->\n<g id=\"edge24\" class=\"edge\">\n<title>1877014791360&#45;&gt;1877014791408**</title>\n<path fill=\"none\" stroke=\"black\" d=\"M1289.84,-131C1300.64,-131 1312.44,-131 1323.27,-131\"/>\n<polygon fill=\"black\" stroke=\"black\" points=\"1323.03,-134.5 1333.03,-131 1323.03,-127.5 1323.03,-134.5\"/>\n</g>\n<!-- 1877014791360+ -->\n<g id=\"node8\" class=\"node\">\n<title>1877014791360+</title>\n<ellipse fill=\"none\" stroke=\"black\" cx=\"1150\" cy=\"-131\" rx=\"27\" ry=\"18\"/>\n<text text-anchor=\"middle\" x=\"1150\" y=\"-127.3\" font-family=\"Times New Roman,serif\" font-size=\"14.00\">+</text>\n</g>\n<!-- 1877014791360+&#45;&gt;1877014791360 -->\n<g id=\"edge3\" class=\"edge\">\n<title>1877014791360+&#45;&gt;1877014791360</title>\n<path fill=\"none\" stroke=\"black\" d=\"M1177.4,-131C1184.92,-131 1193.36,-131 1201.77,-131\"/>\n<polygon fill=\"black\" stroke=\"black\" points=\"1201.6,-134.5 1211.6,-131 1201.6,-127.5 1201.6,-134.5\"/>\n</g>\n<!-- 1877014804704 -->\n<g id=\"node9\" class=\"node\">\n<title>1877014804704</title>\n<polygon fill=\"none\" stroke=\"black\" points=\"1010,-44.5 1010,-113.5 1087,-113.5 1087,-44.5 1010,-44.5\"/>\n<text text-anchor=\"middle\" x=\"1048.5\" y=\"-98.3\" font-family=\"Times New Roman,serif\" font-size=\"14.00\">None</text>\n<polyline fill=\"none\" stroke=\"black\" points=\"1010,-90.5 1087,-90.5\"/>\n<text text-anchor=\"middle\" x=\"1048.5\" y=\"-75.3\" font-family=\"Times New Roman,serif\" font-size=\"14.00\">data: 1.00</text>\n<polyline fill=\"none\" stroke=\"black\" points=\"1010,-67.5 1087,-67.5\"/>\n<text text-anchor=\"middle\" x=\"1048.5\" y=\"-52.3\" font-family=\"Times New Roman,serif\" font-size=\"14.00\">grad: &#45;0.10</text>\n</g>\n<!-- 1877014804704&#45;&gt;1877014791360+ -->\n<g id=\"edge22\" class=\"edge\">\n<title>1877014804704&#45;&gt;1877014791360+</title>\n<path fill=\"none\" stroke=\"black\" d=\"M1086.83,-98.51C1097.04,-103.84 1107.99,-109.57 1117.81,-114.7\"/>\n<polygon fill=\"black\" stroke=\"black\" points=\"1116.11,-117.76 1126.6,-119.29 1119.36,-111.56 1116.11,-117.76\"/>\n</g>\n<!-- 1877014791408 -->\n<g id=\"node10\" class=\"node\">\n<title>1877014791408</title>\n<polygon fill=\"none\" stroke=\"black\" points=\"1434,-100.5 1434,-169.5 1506,-169.5 1506,-100.5 1434,-100.5\"/>\n<text text-anchor=\"middle\" x=\"1470\" y=\"-154.3\" font-family=\"Times New Roman,serif\" font-size=\"14.00\">None</text>\n<polyline fill=\"none\" stroke=\"black\" points=\"1434,-146.5 1506,-146.5\"/>\n<text text-anchor=\"middle\" x=\"1470\" y=\"-131.3\" font-family=\"Times New Roman,serif\" font-size=\"14.00\">data: 0.15</text>\n<polyline fill=\"none\" stroke=\"black\" points=\"1434,-123.5 1506,-123.5\"/>\n<text text-anchor=\"middle\" x=\"1470\" y=\"-108.3\" font-family=\"Times New Roman,serif\" font-size=\"14.00\">grad: 4.83</text>\n</g>\n<!-- 1877014803792* -->\n<g id=\"node20\" class=\"node\">\n<title>1877014803792*</title>\n<ellipse fill=\"none\" stroke=\"black\" cx=\"1569\" cy=\"-166\" rx=\"27\" ry=\"18\"/>\n<text text-anchor=\"middle\" x=\"1569\" y=\"-162.3\" font-family=\"Times New Roman,serif\" font-size=\"14.00\">*</text>\n</g>\n<!-- 1877014791408&#45;&gt;1877014803792* -->\n<g id=\"edge14\" class=\"edge\">\n<title>1877014791408&#45;&gt;1877014803792*</title>\n<path fill=\"none\" stroke=\"black\" d=\"M1505.75,-146.1C1514.69,-148.96 1524.31,-152.04 1533.26,-154.9\"/>\n<polygon fill=\"black\" stroke=\"black\" points=\"1532.09,-158.2 1542.68,-157.91 1534.22,-151.53 1532.09,-158.2\"/>\n</g>\n<!-- 1877014791408**&#45;&gt;1877014791408 -->\n<g id=\"edge4\" class=\"edge\">\n<title>1877014791408**&#45;&gt;1877014791408</title>\n<path fill=\"none\" stroke=\"black\" d=\"M1389.2,-131.99C1399.41,-132.37 1411.42,-132.83 1422.97,-133.26\"/>\n<polygon fill=\"black\" stroke=\"black\" points=\"1422.66,-136.75 1432.79,-133.63 1422.93,-129.76 1422.66,-136.75\"/>\n</g>\n<!-- 1877014796544 -->\n<g id=\"node12\" class=\"node\">\n<title>1877014796544</title>\n<polygon fill=\"none\" stroke=\"black\" points=\"404,-132.5 404,-201.5 488,-201.5 488,-132.5 404,-132.5\"/>\n<text text-anchor=\"middle\" x=\"446\" y=\"-186.3\" font-family=\"Times New Roman,serif\" font-size=\"14.00\">x1w1_x2w2</text>\n<polyline fill=\"none\" stroke=\"black\" points=\"404,-178.5 488,-178.5\"/>\n<text text-anchor=\"middle\" x=\"446\" y=\"-163.3\" font-family=\"Times New Roman,serif\" font-size=\"14.00\">data: &#45;6.00</text>\n<polyline fill=\"none\" stroke=\"black\" points=\"404,-155.5 488,-155.5\"/>\n<text text-anchor=\"middle\" x=\"446\" y=\"-140.3\" font-family=\"Times New Roman,serif\" font-size=\"14.00\">grad: 0.50</text>\n</g>\n<!-- 1877014796544&#45;&gt;1877014796304+ -->\n<g id=\"edge17\" class=\"edge\">\n<title>1877014796544&#45;&gt;1877014796304+</title>\n<path fill=\"none\" stroke=\"black\" d=\"M487.71,-149.61C497.49,-145.43 507.81,-141.02 517.18,-137.02\"/>\n<polygon fill=\"black\" stroke=\"black\" points=\"518.44,-140.29 526.26,-133.14 515.69,-133.85 518.44,-140.29\"/>\n</g>\n<!-- 1877014796544+ -->\n<g id=\"node13\" class=\"node\">\n<title>1877014796544+</title>\n<ellipse fill=\"none\" stroke=\"black\" cx=\"341\" cy=\"-167\" rx=\"27\" ry=\"18\"/>\n<text text-anchor=\"middle\" x=\"341\" y=\"-163.3\" font-family=\"Times New Roman,serif\" font-size=\"14.00\">+</text>\n</g>\n<!-- 1877014796544+&#45;&gt;1877014796544 -->\n<g id=\"edge5\" class=\"edge\">\n<title>1877014796544+&#45;&gt;1877014796544</title>\n<path fill=\"none\" stroke=\"black\" d=\"M368.26,-167C375.88,-167 384.49,-167 393.11,-167\"/>\n<polygon fill=\"black\" stroke=\"black\" points=\"392.86,-170.5 402.86,-167 392.86,-163.5 392.86,-170.5\"/>\n</g>\n<!-- 1877014800096 -->\n<g id=\"node14\" class=\"node\">\n<title>1877014800096</title>\n<polygon fill=\"none\" stroke=\"black\" points=\"203,-176.5 203,-245.5 278,-245.5 278,-176.5 203,-176.5\"/>\n<text text-anchor=\"middle\" x=\"240.5\" y=\"-230.3\" font-family=\"Times New Roman,serif\" font-size=\"14.00\">x1w1</text>\n<polyline fill=\"none\" stroke=\"black\" points=\"203,-222.5 278,-222.5\"/>\n<text text-anchor=\"middle\" x=\"240.5\" y=\"-207.3\" font-family=\"Times New Roman,serif\" font-size=\"14.00\">data: &#45;6.00</text>\n<polyline fill=\"none\" stroke=\"black\" points=\"203,-199.5 278,-199.5\"/>\n<text text-anchor=\"middle\" x=\"240.5\" y=\"-184.3\" font-family=\"Times New Roman,serif\" font-size=\"14.00\">grad: 0.50</text>\n</g>\n<!-- 1877014800096&#45;&gt;1877014796544+ -->\n<g id=\"edge12\" class=\"edge\">\n<title>1877014800096&#45;&gt;1877014796544+</title>\n<path fill=\"none\" stroke=\"black\" d=\"M277.9,-194.74C287.69,-190.37 298.22,-185.66 307.77,-181.4\"/>\n<polygon fill=\"black\" stroke=\"black\" points=\"308.96,-184.7 316.67,-177.42 306.11,-178.31 308.96,-184.7\"/>\n</g>\n<!-- 1877014800096*&#45;&gt;1877014800096 -->\n<g id=\"edge6\" class=\"edge\">\n<title>1877014800096*&#45;&gt;1877014800096</title>\n<path fill=\"none\" stroke=\"black\" d=\"M167.4,-211C174.92,-211 183.35,-211 191.73,-211\"/>\n<polygon fill=\"black\" stroke=\"black\" points=\"191.52,-214.5 201.52,-211 191.52,-207.5 191.52,-214.5\"/>\n</g>\n<!-- 1877014804848 -->\n<g id=\"node16\" class=\"node\">\n<title>1877014804848</title>\n<polygon fill=\"none\" stroke=\"black\" points=\"1326,-167.5 1326,-236.5 1398,-236.5 1398,-167.5 1326,-167.5\"/>\n<text text-anchor=\"middle\" x=\"1362\" y=\"-221.3\" font-family=\"Times New Roman,serif\" font-size=\"14.00\">None</text>\n<polyline fill=\"none\" stroke=\"black\" points=\"1326,-213.5 1398,-213.5\"/>\n<text text-anchor=\"middle\" x=\"1362\" y=\"-198.3\" font-family=\"Times New Roman,serif\" font-size=\"14.00\">data: 4.83</text>\n<polyline fill=\"none\" stroke=\"black\" points=\"1326,-190.5 1398,-190.5\"/>\n<text text-anchor=\"middle\" x=\"1362\" y=\"-175.3\" font-family=\"Times New Roman,serif\" font-size=\"14.00\">grad: 0.15</text>\n</g>\n<!-- 1877014804848&#45;&gt;1877014803792* -->\n<g id=\"edge27\" class=\"edge\">\n<title>1877014804848&#45;&gt;1877014803792*</title>\n<path fill=\"none\" stroke=\"black\" d=\"M1397.75,-196.88C1426.76,-192.49 1469.16,-185.82 1506,-179 1514.4,-177.44 1523.41,-175.64 1531.89,-173.87\"/>\n<polygon fill=\"black\" stroke=\"black\" points=\"1532.47,-177.33 1541.53,-171.83 1531.03,-170.48 1532.47,-177.33\"/>\n</g>\n<!-- 1877014804848+ -->\n<g id=\"node17\" class=\"node\">\n<title>1877014804848+</title>\n<ellipse fill=\"none\" stroke=\"black\" cx=\"1150\" cy=\"-202\" rx=\"27\" ry=\"18\"/>\n<text text-anchor=\"middle\" x=\"1150\" y=\"-198.3\" font-family=\"Times New Roman,serif\" font-size=\"14.00\">+</text>\n</g>\n<!-- 1877014804848+&#45;&gt;1877014804848 -->\n<g id=\"edge7\" class=\"edge\">\n<title>1877014804848+&#45;&gt;1877014804848</title>\n<path fill=\"none\" stroke=\"black\" d=\"M1177.17,-202C1211.54,-202 1272.47,-202 1314.71,-202\"/>\n<polygon fill=\"black\" stroke=\"black\" points=\"1314.58,-205.5 1324.58,-202 1314.58,-198.5 1314.58,-205.5\"/>\n</g>\n<!-- 1877014803264 -->\n<g id=\"node18\" class=\"node\">\n<title>1877014803264</title>\n<polygon fill=\"none\" stroke=\"black\" points=\"2.5,-0.5 2.5,-69.5 74.5,-69.5 74.5,-0.5 2.5,-0.5\"/>\n<text text-anchor=\"middle\" x=\"38.5\" y=\"-54.3\" font-family=\"Times New Roman,serif\" font-size=\"14.00\">x2</text>\n<polyline fill=\"none\" stroke=\"black\" points=\"2.5,-46.5 74.5,-46.5\"/>\n<text text-anchor=\"middle\" x=\"38.5\" y=\"-31.3\" font-family=\"Times New Roman,serif\" font-size=\"14.00\">data: 0.00</text>\n<polyline fill=\"none\" stroke=\"black\" points=\"2.5,-23.5 74.5,-23.5\"/>\n<text text-anchor=\"middle\" x=\"38.5\" y=\"-8.3\" font-family=\"Times New Roman,serif\" font-size=\"14.00\">grad: 0.50</text>\n</g>\n<!-- 1877014803264&#45;&gt;1877014796688* -->\n<g id=\"edge28\" class=\"edge\">\n<title>1877014803264&#45;&gt;1877014796688*</title>\n<path fill=\"none\" stroke=\"black\" d=\"M74.3,-65.78C87.56,-77.5 102.38,-90.61 114.49,-101.32\"/>\n<polygon fill=\"black\" stroke=\"black\" points=\"111.82,-103.63 121.63,-107.64 116.46,-98.39 111.82,-103.63\"/>\n</g>\n<!-- 1877014803792 -->\n<g id=\"node19\" class=\"node\">\n<title>1877014803792</title>\n<polygon fill=\"none\" stroke=\"black\" points=\"1632,-131.5 1632,-200.5 1704,-200.5 1704,-131.5 1632,-131.5\"/>\n<text text-anchor=\"middle\" x=\"1668\" y=\"-185.3\" font-family=\"Times New Roman,serif\" font-size=\"14.00\">o</text>\n<polyline fill=\"none\" stroke=\"black\" points=\"1632,-177.5 1704,-177.5\"/>\n<text text-anchor=\"middle\" x=\"1668\" y=\"-162.3\" font-family=\"Times New Roman,serif\" font-size=\"14.00\">data: 0.71</text>\n<polyline fill=\"none\" stroke=\"black\" points=\"1632,-154.5 1704,-154.5\"/>\n<text text-anchor=\"middle\" x=\"1668\" y=\"-139.3\" font-family=\"Times New Roman,serif\" font-size=\"14.00\">grad: 1.00</text>\n</g>\n<!-- 1877014803792*&#45;&gt;1877014803792 -->\n<g id=\"edge8\" class=\"edge\">\n<title>1877014803792*&#45;&gt;1877014803792</title>\n<path fill=\"none\" stroke=\"black\" d=\"M1596.25,-166C1603.89,-166 1612.46,-166 1620.94,-166\"/>\n<polygon fill=\"black\" stroke=\"black\" points=\"1620.83,-169.5 1630.83,-166 1620.83,-162.5 1620.83,-169.5\"/>\n</g>\n<!-- 1877014799712 -->\n<g id=\"node21\" class=\"node\">\n<title>1877014799712</title>\n<polygon fill=\"none\" stroke=\"black\" points=\"1012.5,-132.5 1012.5,-201.5 1084.5,-201.5 1084.5,-132.5 1012.5,-132.5\"/>\n<text text-anchor=\"middle\" x=\"1048.5\" y=\"-186.3\" font-family=\"Times New Roman,serif\" font-size=\"14.00\">e</text>\n<polyline fill=\"none\" stroke=\"black\" points=\"1012.5,-178.5 1084.5,-178.5\"/>\n<text text-anchor=\"middle\" x=\"1048.5\" y=\"-163.3\" font-family=\"Times New Roman,serif\" font-size=\"14.00\">data: 5.83</text>\n<polyline fill=\"none\" stroke=\"black\" points=\"1012.5,-155.5 1084.5,-155.5\"/>\n<text text-anchor=\"middle\" x=\"1048.5\" y=\"-140.3\" font-family=\"Times New Roman,serif\" font-size=\"14.00\">grad: 0.04</text>\n</g>\n<!-- 1877014799712&#45;&gt;1877014791360+ -->\n<g id=\"edge23\" class=\"edge\">\n<title>1877014799712&#45;&gt;1877014791360+</title>\n<path fill=\"none\" stroke=\"black\" d=\"M1084.3,-154.41C1094.24,-150.81 1105.05,-146.9 1114.94,-143.32\"/>\n<polygon fill=\"black\" stroke=\"black\" points=\"1115.98,-146.67 1124.19,-139.98 1113.6,-140.09 1115.98,-146.67\"/>\n</g>\n<!-- 1877014799712&#45;&gt;1877014804848+ -->\n<g id=\"edge16\" class=\"edge\">\n<title>1877014799712&#45;&gt;1877014804848+</title>\n<path fill=\"none\" stroke=\"black\" d=\"M1084.3,-179.24C1094.24,-182.74 1105.05,-186.54 1114.94,-190.02\"/>\n<polygon fill=\"black\" stroke=\"black\" points=\"1113.59,-193.26 1124.19,-193.27 1115.92,-186.65 1113.59,-193.26\"/>\n</g>\n<!-- 1877014799712exp&#45;&gt;1877014799712 -->\n<g id=\"edge9\" class=\"edge\">\n<title>1877014799712exp&#45;&gt;1877014799712</title>\n<path fill=\"none\" stroke=\"black\" d=\"M974.4,-167C982.66,-167 992.03,-167 1001.24,-167\"/>\n<polygon fill=\"black\" stroke=\"black\" points=\"1001.21,-170.5 1011.21,-167 1001.21,-163.5 1001.21,-170.5\"/>\n</g>\n<!-- 1877014805856 -->\n<g id=\"node23\" class=\"node\">\n<title>1877014805856</title>\n<polygon fill=\"none\" stroke=\"black\" points=\"410,-44.5 410,-113.5 482,-113.5 482,-44.5 410,-44.5\"/>\n<text text-anchor=\"middle\" x=\"446\" y=\"-98.3\" font-family=\"Times New Roman,serif\" font-size=\"14.00\">b</text>\n<polyline fill=\"none\" stroke=\"black\" points=\"410,-90.5 482,-90.5\"/>\n<text text-anchor=\"middle\" x=\"446\" y=\"-75.3\" font-family=\"Times New Roman,serif\" font-size=\"14.00\">data: 6.88</text>\n<polyline fill=\"none\" stroke=\"black\" points=\"410,-67.5 482,-67.5\"/>\n<text text-anchor=\"middle\" x=\"446\" y=\"-52.3\" font-family=\"Times New Roman,serif\" font-size=\"14.00\">grad: 0.50</text>\n</g>\n<!-- 1877014805856&#45;&gt;1877014796304+ -->\n<g id=\"edge20\" class=\"edge\">\n<title>1877014805856&#45;&gt;1877014796304+</title>\n<path fill=\"none\" stroke=\"black\" d=\"M481.87,-93.9C493.37,-98.81 506.11,-104.25 517.43,-109.09\"/>\n<polygon fill=\"black\" stroke=\"black\" points=\"515.8,-112.2 526.37,-112.91 518.55,-105.76 515.8,-112.2\"/>\n</g>\n<!-- 1877014794048 -->\n<g id=\"node24\" class=\"node\">\n<title>1877014794048</title>\n<polygon fill=\"none\" stroke=\"black\" points=\"614,-176.5 614,-245.5 686,-245.5 686,-176.5 614,-176.5\"/>\n<text text-anchor=\"middle\" x=\"650\" y=\"-230.3\" font-family=\"Times New Roman,serif\" font-size=\"14.00\">None</text>\n<polyline fill=\"none\" stroke=\"black\" points=\"614,-222.5 686,-222.5\"/>\n<text text-anchor=\"middle\" x=\"650\" y=\"-207.3\" font-family=\"Times New Roman,serif\" font-size=\"14.00\">data: 2.00</text>\n<polyline fill=\"none\" stroke=\"black\" points=\"614,-199.5 686,-199.5\"/>\n<text text-anchor=\"middle\" x=\"650\" y=\"-184.3\" font-family=\"Times New Roman,serif\" font-size=\"14.00\">grad: 0.22</text>\n</g>\n<!-- 1877014794048&#45;&gt;1877014803600* -->\n<g id=\"edge13\" class=\"edge\">\n<title>1877014794048&#45;&gt;1877014803600*</title>\n<path fill=\"none\" stroke=\"black\" d=\"M685.75,-195.24C695.54,-190.8 706.15,-185.98 715.79,-181.61\"/>\n<polygon fill=\"black\" stroke=\"black\" points=\"717.13,-184.85 724.79,-177.53 714.24,-178.47 717.13,-184.85\"/>\n</g>\n<!-- 1877014796688 -->\n<g id=\"node25\" class=\"node\">\n<title>1877014796688</title>\n<polygon fill=\"none\" stroke=\"black\" points=\"204.5,-88.5 204.5,-157.5 276.5,-157.5 276.5,-88.5 204.5,-88.5\"/>\n<text text-anchor=\"middle\" x=\"240.5\" y=\"-142.3\" font-family=\"Times New Roman,serif\" font-size=\"14.00\">x2w2</text>\n<polyline fill=\"none\" stroke=\"black\" points=\"204.5,-134.5 276.5,-134.5\"/>\n<text text-anchor=\"middle\" x=\"240.5\" y=\"-119.3\" font-family=\"Times New Roman,serif\" font-size=\"14.00\">data: 0.00</text>\n<polyline fill=\"none\" stroke=\"black\" points=\"204.5,-111.5 276.5,-111.5\"/>\n<text text-anchor=\"middle\" x=\"240.5\" y=\"-96.3\" font-family=\"Times New Roman,serif\" font-size=\"14.00\">grad: 0.50</text>\n</g>\n<!-- 1877014796688&#45;&gt;1877014796544+ -->\n<g id=\"edge15\" class=\"edge\">\n<title>1877014796688&#45;&gt;1877014796544+</title>\n<path fill=\"none\" stroke=\"black\" d=\"M276.23,-138.51C286.4,-143.06 297.47,-148 307.5,-152.48\"/>\n<polygon fill=\"black\" stroke=\"black\" points=\"305.93,-155.61 316.49,-156.5 308.79,-149.22 305.93,-155.61\"/>\n</g>\n<!-- 1877014796688*&#45;&gt;1877014796688 -->\n<g id=\"edge10\" class=\"edge\">\n<title>1877014796688*&#45;&gt;1877014796688</title>\n<path fill=\"none\" stroke=\"black\" d=\"M167.4,-123C175.32,-123 184.26,-123 193.08,-123\"/>\n<polygon fill=\"black\" stroke=\"black\" points=\"192.99,-126.5 202.99,-123 192.99,-119.5 192.99,-126.5\"/>\n</g>\n<!-- 1877014804896 -->\n<g id=\"node27\" class=\"node\">\n<title>1877014804896</title>\n<polygon fill=\"none\" stroke=\"black\" points=\"1011,-220.5 1011,-289.5 1086,-289.5 1086,-220.5 1011,-220.5\"/>\n<text text-anchor=\"middle\" x=\"1048.5\" y=\"-274.3\" font-family=\"Times New Roman,serif\" font-size=\"14.00\">None</text>\n<polyline fill=\"none\" stroke=\"black\" points=\"1011,-266.5 1086,-266.5\"/>\n<text text-anchor=\"middle\" x=\"1048.5\" y=\"-251.3\" font-family=\"Times New Roman,serif\" font-size=\"14.00\">data: &#45;1.00</text>\n<polyline fill=\"none\" stroke=\"black\" points=\"1011,-243.5 1086,-243.5\"/>\n<text text-anchor=\"middle\" x=\"1048.5\" y=\"-228.3\" font-family=\"Times New Roman,serif\" font-size=\"14.00\">grad: 0.15</text>\n</g>\n<!-- 1877014804896&#45;&gt;1877014804848+ -->\n<g id=\"edge19\" class=\"edge\">\n<title>1877014804896&#45;&gt;1877014804848+</title>\n<path fill=\"none\" stroke=\"black\" d=\"M1085.99,-235.57C1096.52,-229.95 1107.92,-223.88 1118.08,-218.47\"/>\n<polygon fill=\"black\" stroke=\"black\" points=\"1119.63,-221.61 1126.81,-213.82 1116.33,-215.43 1119.63,-221.61\"/>\n</g>\n<!-- 1877014805904 -->\n<g id=\"node28\" class=\"node\">\n<title>1877014805904</title>\n<polygon fill=\"none\" stroke=\"black\" points=\"0,-176.5 0,-245.5 77,-245.5 77,-176.5 0,-176.5\"/>\n<text text-anchor=\"middle\" x=\"38.5\" y=\"-230.3\" font-family=\"Times New Roman,serif\" font-size=\"14.00\">x1</text>\n<polyline fill=\"none\" stroke=\"black\" points=\"0,-222.5 77,-222.5\"/>\n<text text-anchor=\"middle\" x=\"38.5\" y=\"-207.3\" font-family=\"Times New Roman,serif\" font-size=\"14.00\">data: 2.00</text>\n<polyline fill=\"none\" stroke=\"black\" points=\"0,-199.5 77,-199.5\"/>\n<text text-anchor=\"middle\" x=\"38.5\" y=\"-184.3\" font-family=\"Times New Roman,serif\" font-size=\"14.00\">grad: &#45;1.50</text>\n</g>\n<!-- 1877014805904&#45;&gt;1877014800096* -->\n<g id=\"edge21\" class=\"edge\">\n<title>1877014805904&#45;&gt;1877014800096*</title>\n<path fill=\"none\" stroke=\"black\" d=\"M76.83,-211C84.84,-211 93.3,-211 101.31,-211\"/>\n<polygon fill=\"black\" stroke=\"black\" points=\"101.12,-214.5 111.12,-211 101.12,-207.5 101.12,-214.5\"/>\n</g>\n</g>\n</svg>\n",
      "text/plain": [
       "<graphviz.graphs.Digraph at 0x1b506ccded0>"
      ]
     },
     "execution_count": 312,
     "metadata": {},
     "output_type": "execute_result"
    }
   ],
   "source": [
    "# We don't do this anymore, we use the backward method\n",
    "# o.grad = 1.0\n",
    "# o._backward()\n",
    "# n._backward()\n",
    "# x1w1_x2w2._backward()\n",
    "# x1w1._backward()\n",
    "# x2w2._backward()\n",
    "o.backward()\n",
    "o.graph()\n",
    "\n",
    "\n"
   ]
  },
  {
   "cell_type": "code",
   "execution_count": 313,
   "id": "df79cb42",
   "metadata": {},
   "outputs": [
    {
     "name": "stdout",
     "output_type": "stream",
     "text": [
      "0.7071067094802856\n",
      "tensor(-1.5000) tensor(0.5000) tensor(1.0000) tensor(0.) tensor(0.5000)\n"
     ]
    }
   ],
   "source": [
    "# with pytorch, the same thing above\n",
    "import torch\n",
    "\n",
    "x1 = torch.tensor(2.0, requires_grad=True)\n",
    "x2 = torch.tensor(0.0, requires_grad=True)\n",
    "w1 = torch.tensor(-3.0, requires_grad=True)\n",
    "w2 = torch.tensor(1.0, requires_grad=True)\n",
    "b = torch.tensor(6.8813735870195432, requires_grad=True)\n",
    "n = x1*w1 + x2*w2 + b\n",
    "o = torch.tanh(n)\n",
    "o.backward()\n",
    "print(o.item())\n",
    "print(x1.grad, x2.grad, w1.grad, w2.grad, b.grad)"
   ]
  },
  {
   "attachments": {},
   "cell_type": "markdown",
   "id": "0572795b",
   "metadata": {},
   "source": [
    "# Let's build NN\n"
   ]
  },
  {
   "cell_type": "code",
   "execution_count": 338,
   "id": "ba66e75e",
   "metadata": {},
   "outputs": [],
   "source": [
    "import random\n",
    "\n",
    "class Neuron:\n",
    "    def __init__(self, nin):\n",
    "        self.w = [Value(random.uniform(-1, 1)) for _ in range(nin)]\n",
    "        self.b = Value(random.uniform(-1, 1))\n",
    "\n",
    "    def __call__(self, x):\n",
    "        act = self.b + sum(wi*xi for xi, wi in zip(x, self.w))\n",
    "        return act.tanh()\n",
    "\n",
    "\n",
    "    def parameters(self):\n",
    "        return self.w + [self.b]\n",
    "\n",
    "\n",
    "class Layer:\n",
    "    def __init__(self, nin, nout):\n",
    "        self.neurons = [Neuron(nin) for _ in range(nout)]\n",
    "\n",
    "    def __call__(self, x):\n",
    "        return [neuron(x) for neuron in self.neurons]\n",
    "\n",
    "\n",
    "    def parameters(self):\n",
    "        params = []\n",
    "        for neuron in self.neurons:\n",
    "            ps = neuron.parameters()\n",
    "            params.extend(ps)\n",
    "\n",
    "        return params\n",
    "\n",
    "\n",
    "class MLP:\n",
    "    def __init__(self, nin, nouts):\n",
    "        sizes = [nin] + nouts\n",
    "        self.layers = [Layer(sizes[i], sizes[i+1]) for i in range(len(nouts))]\n",
    "\n",
    "    def __call__(self, x):\n",
    "        for layer in self.layers:\n",
    "            x = layer(x)\n",
    "        return x\n",
    "\n",
    "    def parameters(self):\n",
    "        params = []\n",
    "        for layer in self.layers:\n",
    "            ps = layer.parameters()\n",
    "            params.extend(ps)\n",
    "\n",
    "        return params\n"
   ]
  },
  {
   "cell_type": "code",
   "execution_count": null,
   "id": "4de54924",
   "metadata": {},
   "outputs": [],
   "source": [
    "def loss(y_pred, y_ground_truth):\n",
    "    return sum((y_predi - y_ground_truthi)**2 for y_predi, y_ground_truthi in zip(y_pred, y_ground_truth))\n",
    "\n",
    "def optimize(mlp : MLP, xs, ys, lr=0.01):\n",
    "    pass\n",
    "\n",
    "\n",
    "xs = [\n",
    "    [2.0, 3.0, -1.0],\n",
    "    [3.0, -1.0, -0.5],\n",
    "    [0.5, 1.0, -1.0],\n",
    "    [1.0, 1.0, -1.0],\n",
    "]\n",
    "ys = [1.0, -1.0, -1.0, 1.0]\n",
    "\n",
    "mlp = MLP(3, [4, 4, 1])\n",
    "\n",
    "# Training loop\n",
    "for k in range(1000):\n",
    "    #forward pass\n",
    "    ypred = [mlp(x)[0] for x in xs]\n",
    "\n",
    "    # compute loss\n",
    "    _loss = loss(ypred, ys)\n",
    "    print(f\"Step {k}:{_loss}\")\n",
    "\n",
    "    # zero gradients\n",
    "    for p in mlp.parameters():\n",
    "        p.grad = 0.0\n",
    "    \n",
    "    # backward pass\n",
    "    _loss.backward()\n",
    "    for p in mlp.parameters():\n",
    "        p.data -= p.grad * 0.01\n"
   ]
  },
  {
   "cell_type": "code",
   "execution_count": 349,
   "id": "a4a5a8a6",
   "metadata": {},
   "outputs": [
    {
     "data": {
      "text/plain": [
       "[Value(None,0.996993477467596),\n",
       " Value(None,-0.9643423333631543),\n",
       " Value(None,-0.9246532617704664),\n",
       " Value(None,0.9242557832869619)]"
      ]
     },
     "execution_count": 349,
     "metadata": {},
     "output_type": "execute_result"
    }
   ],
   "source": [
    "ypred\n"
   ]
  }
 ],
 "metadata": {
  "kernelspec": {
   "display_name": "Python 3",
   "language": "python",
   "name": "python3"
  },
  "language_info": {
   "codemirror_mode": {
    "name": "ipython",
    "version": 3
   },
   "file_extension": ".py",
   "mimetype": "text/x-python",
   "name": "python",
   "nbconvert_exporter": "python",
   "pygments_lexer": "ipython3",
   "version": "3.10.0"
  },
  "vscode": {
   "interpreter": {
    "hash": "7afcb4a04d08665c2529ae0dc1d5ec01f94baaa4a57a18e0d9f75f04722700b7"
   }
  }
 },
 "nbformat": 4,
 "nbformat_minor": 5
}
