{
 "cells": [
  {
   "cell_type": "code",
   "execution_count": 11,
   "id": "90a3f12f",
   "metadata": {},
   "outputs": [],
   "source": [
    "import math\n",
    "import matplotlib.pyplot as plt\n",
    "import numpy as np\n",
    "%matplotlib inline"
   ]
  },
  {
   "cell_type": "code",
   "execution_count": 12,
   "id": "208ba407",
   "metadata": {},
   "outputs": [],
   "source": [
    "def f(x):\n",
    "    return 3*x**2 + 4*x + 5"
   ]
  },
  {
   "cell_type": "code",
   "execution_count": 13,
   "id": "9caac1da",
   "metadata": {},
   "outputs": [
    {
     "data": {
      "text/plain": [
       "[<matplotlib.lines.Line2D at 0x2a91ebda3e0>]"
      ]
     },
     "execution_count": 13,
     "metadata": {},
     "output_type": "execute_result"
    },
    {
     "data": {
      "image/png": "[encoded data removed]",
      "text/plain": [
       "<Figure size 640x480 with 1 Axes>"
      ]
     },
     "metadata": {},
     "output_type": "display_data"
    }
   ],
   "source": [
    "xs = np.arange(-10, 10, 0.25)\n",
    "ys = f(xs)\n",
    "plt.plot(xs, ys)"
   ]
  },
  {
   "cell_type": "markdown",
   "id": "b59bc126",
   "metadata": {},
   "source": [
    "# Derivative\n",
    "Devrivative of a function `f(x)` is a measure how sensitive it is to any change in `x`\n",
    "\n",
    "Following is the definiation of a derivative"
   ]
  },
  {
   "cell_type": "code",
   "execution_count": 14,
   "id": "2a4d6b1b",
   "metadata": {},
   "outputs": [
    {
     "data": {
      "text/plain": [
       "22.000300000044604"
      ]
     },
     "execution_count": 14,
     "metadata": {},
     "output_type": "execute_result"
    }
   ],
   "source": [
    "x = 3\n",
    "h = 0.0001\n",
    "slope = (f(x+h) - f(x)) / h\n",
    "slope"
   ]
  },
  {
   "cell_type": "code",
   "execution_count": 15,
   "id": "5adf267d",
   "metadata": {},
   "outputs": [
    {
     "name": "stdout",
     "output_type": "stream",
     "text": [
      "-3.000000000010772\n"
     ]
    }
   ],
   "source": [
    "h = 0.0001\n",
    "\n",
    "# complex example\n",
    "a = 2.0\n",
    "b = -3.0\n",
    "c = 10\n",
    "d = a*b + c\n",
    "\n",
    "# derivative of d wrt a\n",
    "d1 = a*b + c\n",
    "a += h\n",
    "d2 = a*b + c\n",
    "slop = (d2 - d1) / h\n",
    "print(slop)\n",
    "\n"
   ]
  },
  {
   "cell_type": "markdown",
   "id": "5967938c",
   "metadata": {},
   "source": [
    "# Let's build micrograd"
   ]
  },
  {
   "cell_type": "code",
   "execution_count": 18,
   "id": "8000f96b",
   "metadata": {},
   "outputs": [
    {
     "data": {
      "image/svg+xml": "<?xml version=\"1.0\" encoding=\"UTF-8\" standalone=\"no\"?>\n<!DOCTYPE svg PUBLIC \"-//W3C//DTD SVG 1.1//EN\"\n \"http://www.w3.org/Graphics/SVG/1.1/DTD/svg11.dtd\">\n<!-- Generated by graphviz version 7.0.6 (20230106.0513)\n -->\n<!-- Pages: 1 -->\n<svg width=\"483pt\" height=\"128pt\"\n viewBox=\"0.00 0.00 483.00 128.00\" xmlns=\"http://www.w3.org/2000/svg\" xmlns:xlink=\"http://www.w3.org/1999/xlink\">\n<g id=\"graph0\" class=\"graph\" transform=\"scale(1 1) rotate(0) translate(4 124)\">\n<polygon fill=\"white\" stroke=\"none\" points=\"-4,4 -4,-124 479,-124 479,4 -4,4\"/>\n<!-- 2925390440448 -->\n<g id=\"node1\" class=\"node\">\n<title>2925390440448</title>\n<polygon fill=\"none\" stroke=\"black\" points=\"0,-83.5 0,-119.5 75,-119.5 75,-83.5 0,-83.5\"/>\n<text text-anchor=\"middle\" x=\"37.5\" y=\"-97.8\" font-family=\"Times New Roman,serif\" font-size=\"14.00\">data :&#45;3.00</text>\n</g>\n<!-- 2925390444768* -->\n<g id=\"node5\" class=\"node\">\n<title>2925390444768*</title>\n<ellipse fill=\"none\" stroke=\"black\" cx=\"138\" cy=\"-73.5\" rx=\"27\" ry=\"18\"/>\n<text text-anchor=\"middle\" x=\"138\" y=\"-69.8\" font-family=\"Times New Roman,serif\" font-size=\"14.00\">*</text>\n</g>\n<!-- 2925390440448&#45;&gt;2925390444768* -->\n<g id=\"edge6\" class=\"edge\">\n<title>2925390440448&#45;&gt;2925390444768*</title>\n<path fill=\"none\" stroke=\"black\" d=\"M74.9,-91.15C83.66,-88.66 93.01,-86 101.72,-83.53\"/>\n<polygon fill=\"black\" stroke=\"black\" points=\"102.59,-86.92 111.25,-80.82 100.67,-80.19 102.59,-86.92\"/>\n</g>\n<!-- 2925390434448 -->\n<g id=\"node2\" class=\"node\">\n<title>2925390434448</title>\n<polygon fill=\"none\" stroke=\"black\" points=\"404,-27.5 404,-63.5 475,-63.5 475,-27.5 404,-27.5\"/>\n<text text-anchor=\"middle\" x=\"439.5\" y=\"-41.8\" font-family=\"Times New Roman,serif\" font-size=\"14.00\">data :4.00</text>\n</g>\n<!-- 2925390434448+ -->\n<g id=\"node3\" class=\"node\">\n<title>2925390434448+</title>\n<ellipse fill=\"none\" stroke=\"black\" cx=\"341\" cy=\"-45.5\" rx=\"27\" ry=\"18\"/>\n<text text-anchor=\"middle\" x=\"341\" y=\"-41.8\" font-family=\"Times New Roman,serif\" font-size=\"14.00\">+</text>\n</g>\n<!-- 2925390434448+&#45;&gt;2925390434448 -->\n<g id=\"edge1\" class=\"edge\">\n<title>2925390434448+&#45;&gt;2925390434448</title>\n<path fill=\"none\" stroke=\"black\" d=\"M368.37,-45.5C375.97,-45.5 384.48,-45.5 392.89,-45.5\"/>\n<polygon fill=\"black\" stroke=\"black\" points=\"392.68,-49 402.68,-45.5 392.68,-42 392.68,-49\"/>\n</g>\n<!-- 2925390444768 -->\n<g id=\"node4\" class=\"node\">\n<title>2925390444768</title>\n<polygon fill=\"none\" stroke=\"black\" points=\"202,-55.5 202,-91.5 277,-91.5 277,-55.5 202,-55.5\"/>\n<text text-anchor=\"middle\" x=\"239.5\" y=\"-69.8\" font-family=\"Times New Roman,serif\" font-size=\"14.00\">data :&#45;6.00</text>\n</g>\n<!-- 2925390444768&#45;&gt;2925390434448+ -->\n<g id=\"edge4\" class=\"edge\">\n<title>2925390444768&#45;&gt;2925390434448+</title>\n<path fill=\"none\" stroke=\"black\" d=\"M276.99,-63.23C286.03,-60.69 295.71,-57.96 304.7,-55.43\"/>\n<polygon fill=\"black\" stroke=\"black\" points=\"305.48,-58.85 314.16,-52.77 303.59,-52.11 305.48,-58.85\"/>\n</g>\n<!-- 2925390444768*&#45;&gt;2925390444768 -->\n<g id=\"edge2\" class=\"edge\">\n<title>2925390444768*&#45;&gt;2925390444768</title>\n<path fill=\"none\" stroke=\"black\" d=\"M165.4,-73.5C173.25,-73.5 182.1,-73.5 190.86,-73.5\"/>\n<polygon fill=\"black\" stroke=\"black\" points=\"190.72,-77 200.72,-73.5 190.72,-70 190.72,-77\"/>\n</g>\n<!-- 2925390438144 -->\n<g id=\"node6\" class=\"node\">\n<title>2925390438144</title>\n<polygon fill=\"none\" stroke=\"black\" points=\"2,-28.5 2,-64.5 73,-64.5 73,-28.5 2,-28.5\"/>\n<text text-anchor=\"middle\" x=\"37.5\" y=\"-42.8\" font-family=\"Times New Roman,serif\" font-size=\"14.00\">data :2.00</text>\n</g>\n<!-- 2925390438144&#45;&gt;2925390444768* -->\n<g id=\"edge5\" class=\"edge\">\n<title>2925390438144&#45;&gt;2925390444768*</title>\n<path fill=\"none\" stroke=\"black\" d=\"M72.95,-55.94C82.26,-58.49 92.34,-61.26 101.7,-63.82\"/>\n<polygon fill=\"black\" stroke=\"black\" points=\"100.61,-67.16 111.18,-66.42 102.47,-60.4 100.61,-67.16\"/>\n</g>\n<!-- 2925390441936 -->\n<g id=\"node7\" class=\"node\">\n<title>2925390441936</title>\n<polygon fill=\"none\" stroke=\"black\" points=\"201,-0.5 201,-36.5 278,-36.5 278,-0.5 201,-0.5\"/>\n<text text-anchor=\"middle\" x=\"239.5\" y=\"-14.8\" font-family=\"Times New Roman,serif\" font-size=\"14.00\">data :10.00</text>\n</g>\n<!-- 2925390441936&#45;&gt;2925390434448+ -->\n<g id=\"edge3\" class=\"edge\">\n<title>2925390441936&#45;&gt;2925390434448+</title>\n<path fill=\"none\" stroke=\"black\" d=\"M277.83,-28.63C286.58,-31 295.86,-33.52 304.52,-35.87\"/>\n<polygon fill=\"black\" stroke=\"black\" points=\"303.41,-39.2 313.98,-38.44 305.25,-32.44 303.41,-39.2\"/>\n</g>\n</g>\n</svg>\n",
      "text/plain": [
       "<graphviz.graphs.Digraph at 0x2a91edbbee0>"
      ]
     },
     "execution_count": 18,
     "metadata": {},
     "output_type": "execute_result"
    }
   ],
   "source": [
    "\n",
    "from graphviz import Digraph\n",
    "\n",
    "class Value:\n",
    "    def __init__(self, data, children=(), operation=''):\n",
    "        self.data = data\n",
    "\n",
    "        # keep track of what contributed to this value\n",
    "        self._prev = set(children)\n",
    "\n",
    "        # what was the operation between the children to get this value\n",
    "        self._operation = operation\n",
    "\n",
    "    def __repr__(self):\n",
    "        return f\"Value({self.data})\"\n",
    "\n",
    "    def __add__(self, other):\n",
    "        return Value(self.data + other.data, (self, other), '+')\n",
    "\n",
    "    def __mul__(self, other):\n",
    "        return Value(self.data * other.data, (self, other), '*')\n",
    "\n",
    "\n",
    "    def _trace(self):\n",
    "        nodes, edges = set(), set()\n",
    "\n",
    "        def _traverse(node):\n",
    "            if node in nodes:\n",
    "                return\n",
    "\n",
    "            nodes.add(node)\n",
    "            for prev in node._prev:\n",
    "                edges.add((prev, node))\n",
    "                _traverse(prev)\n",
    "\n",
    "        _traverse(self)\n",
    "        return nodes, edges\n",
    "\n",
    "    def graph(self):\n",
    "        dot = Digraph(format='svg',graph_attr={'rankdir':'LR'}) # LR = left to right\n",
    "        nodes, edges = self._trace()\n",
    "\n",
    "        for node in nodes:\n",
    "            uid = str(id(node))\n",
    "            # for value create a rectangle\n",
    "            dot.node(uid, label=f\"data :{node.data:.2f}\",  shape='record')\n",
    "\n",
    "            # create a node for the operation\n",
    "            if node._operation:\n",
    "                dot.node(name=uid + node._operation, label=node._operation)\n",
    "                dot.edge(uid + node._operation, uid)\n",
    "\n",
    "        for src, dst in edges:\n",
    "            dot.edge(str(id(src)), str(id(dst)) + dst._operation)\n",
    "\n",
    "        return dot\n",
    "\n",
    "\n",
    "\n",
    "\n",
    "\n",
    "\n",
    "a = Value(2.0)\n",
    "b = Value(-3.0)\n",
    "c = Value(10)\n",
    "d = a*b + c\n",
    "\n",
    "d.graph()"
   ]
  }
 ],
 "metadata": {
  "kernelspec": {
   "display_name": "Python 3",
   "language": "python",
   "name": "python3"
  },
  "language_info": {
   "codemirror_mode": {
    "name": "ipython",
    "version": 3
   },
   "file_extension": ".py",
   "mimetype": "text/x-python",
   "name": "python",
   "nbconvert_exporter": "python",
   "pygments_lexer": "ipython3",
   "version": "3.10.0"
  },
  "vscode": {
   "interpreter": {
    "hash": "7afcb4a04d08665c2529ae0dc1d5ec01f94baaa4a57a18e0d9f75f04722700b7"
   }
  }
 },
 "nbformat": 4,
 "nbformat_minor": 5
}
