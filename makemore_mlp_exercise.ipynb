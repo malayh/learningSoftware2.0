{
 "cells": [
  {
   "cell_type": "code",
   "execution_count": 12,
   "metadata": {},
   "outputs": [],
   "source": [
    "import torch\n",
    "import torch.nn.functional as F\n",
    "import matplotlib.pyplot as plt\n",
    "%matplotlib inline\n",
    "\n",
    "from helpers.makemore_helpers import make_char2idx_map, build_dataset\n",
    "\n",
    "words = open(r'data\\names.txt','r').read().splitlines()\n",
    "char2idx = make_char2idx_map(words)\n",
    "idx2char = {v: k for k, v in char2idx.items()}\n",
    "\n",
    "block_size = 4\n"
   ]
  },
  {
   "cell_type": "code",
   "execution_count": 13,
   "metadata": {},
   "outputs": [
    {
     "name": "stdout",
     "output_type": "stream",
     "text": [
      "Sizes: 182778 22633 22735\n",
      "Shapes: torch.Size([182778, 4]) torch.Size([182778])\n"
     ]
    }
   ],
   "source": [
    "# Build the dataset\n",
    "train_count = int(len(words) * 0.8)\n",
    "n_1 = int(len(words) * 0.9)\n",
    "\n",
    "x_train, y_train = build_dataset(words[:train_count], block_size, char2idx)\n",
    "x_val, y_val = build_dataset(words[train_count:n_1], block_size, char2idx)\n",
    "x_test, y_test = build_dataset(words[n_1:], block_size, char2idx)\n",
    "\n",
    "total_train = len(x_train)\n",
    "total_val = len(x_val)\n",
    "total_test = len(x_test)\n",
    "\n",
    "print(f\"Sizes:\", total_train, total_val, total_test)\n",
    "print(\"Shapes:\", x_train.shape, y_train.shape)\n"
   ]
  },
  {
   "cell_type": "code",
   "execution_count": 149,
   "metadata": {},
   "outputs": [],
   "source": [
    "# Set up parameters\n",
    "rand_gen = torch.Generator().manual_seed(42)\n",
    "embedding_size = 100\n",
    "\n",
    "embedding_matrix = torch.randn((len(char2idx), 10,10), generator=rand_gen, requires_grad=True)\n",
    "W1 = torch.randn((embedding_size * block_size, 300), generator=rand_gen, requires_grad=True)\n",
    "b1 = torch.randn(300, generator=rand_gen, requires_grad=True)\n",
    "W2 = torch.randn((300, len(char2idx)), generator=rand_gen, requires_grad=True)\n",
    "b2 = torch.randn(len(char2idx), generator=rand_gen, requires_grad=True)\n",
    "\n",
    "params = [embedding_matrix, W1, b1, W2, b2]"
   ]
  },
  {
   "cell_type": "code",
   "execution_count": 150,
   "metadata": {},
   "outputs": [],
   "source": [
    "learning_rate_linear = torch.linspace(-3,0,1000)\n",
    "learning_rate = 10**learning_rate_linear # learning rate will go from 10^-3 to 1"
   ]
  },
  {
   "cell_type": "code",
   "execution_count": 151,
   "metadata": {},
   "outputs": [],
   "source": [
    "learning_rates = []\n",
    "losses = []\n",
    "iterations = []"
   ]
  },
  {
   "cell_type": "code",
   "execution_count": 163,
   "metadata": {},
   "outputs": [
    {
     "name": "stdout",
     "output_type": "stream",
     "text": [
      "Final loss: 2.4929871559143066\n"
     ]
    }
   ],
   "source": [
    "batch_size = 256\n",
    "epochs = 50000\n",
    "\n",
    "for i in range(epochs):\n",
    "    indices = torch.randint(0, total_train, (batch_size,))\n",
    "    embedding = embedding_matrix[x_train[indices]]\n",
    "    activation_1 = torch.tanh(\n",
    "        embedding.view(-1,embedding_size * block_size) @ W1 + b1\n",
    "    )\n",
    "    logits = activation_1 @ W2 + b2\n",
    "    loss = F.cross_entropy(logits, y_train[indices]) + 0.001 * (W1.norm() + W2.norm())\n",
    "\n",
    "    for p in params:\n",
    "        p.grad = None\n",
    "\n",
    "    loss.backward(retain_graph=True)\n",
    "\n",
    "    for p in params:\n",
    "        p.data -= 0.01 * p.grad\n",
    "\n",
    "\n",
    "    # learning_rates.append(learning_rate[i])\n",
    "    losses.append(loss.item())\n",
    "    iterations.append(i)\n",
    "\n",
    "print(f\"Final loss: {losses[-1]}\")\n"
   ]
  },
  {
   "cell_type": "code",
   "execution_count": 153,
   "metadata": {},
   "outputs": [
    {
     "data": {
      "text/plain": [
       "[<matplotlib.lines.Line2D at 0x22fc69fee60>]"
      ]
     },
     "execution_count": 153,
     "metadata": {},
     "output_type": "execute_result"
    },
    {
     "data": {
      "image/png": "[encoded data removed]",
      "text/plain": [
       "<Figure size 640x480 with 1 Axes>"
      ]
     },
     "metadata": {},
     "output_type": "display_data"
    }
   ],
   "source": [
    "plt.plot(iterations, losses)"
   ]
  },
  {
   "cell_type": "code",
   "execution_count": 164,
   "metadata": {},
   "outputs": [
    {
     "name": "stdout",
     "output_type": "stream",
     "text": [
      "Loss: 2.8383\n"
     ]
    }
   ],
   "source": [
    "embedding = embedding_matrix[x_val]\n",
    "activation_1 = torch.tanh(embedding.view(-1,embedding_size*block_size) @ W1 + b1)\n",
    "logits = activation_1 @ W2 + b2\n",
    "loss = F.cross_entropy(logits, y_val)\n",
    "print(f\"Loss: {loss.item():.4f}\")"
   ]
  },
  {
   "cell_type": "code",
   "execution_count": 166,
   "metadata": {},
   "outputs": [
    {
     "name": "stdout",
     "output_type": "stream",
     "text": [
      "anuseyvampe\n",
      "marian\n",
      "davin\n",
      "naysla\n",
      "yana\n",
      "kemarie\n",
      "man\n",
      "epiaciduen\n",
      "dazcda\n",
      "adaly\n",
      "beres\n",
      "alla\n",
      "mikanya\n",
      "adhvikia\n",
      "anan\n",
      "kaithan\n",
      "tiyana\n",
      "avorth\n",
      "jenay\n",
      "sogan\n"
     ]
    }
   ],
   "source": [
    "rand_gen = torch.Generator().manual_seed(42)\n",
    "\n",
    "for _ in range(20):\n",
    "    out = []\n",
    "    context = [0] * block_size\n",
    "\n",
    "    while True:\n",
    "        emb = embedding_matrix[\n",
    "            torch.tensor([context])\n",
    "        ]\n",
    "\n",
    "        act_1 = torch.tanh(emb.view(1,-1) @ W1 + b1)\n",
    "        logits = act_1 @ W2 + b2\n",
    "        probs = F.softmax(logits, dim=1)\n",
    "        ix = torch.multinomial(probs, num_samples=1,generator=rand_gen).item()\n",
    "        context = context[1:] + [ix]\n",
    "        \n",
    "        if ix == 0:\n",
    "            break\n",
    "\n",
    "        out.append(ix)\n",
    "\n",
    "    print(''.join([idx2char[i] for i in out]))"
   ]
  }
 ],
 "metadata": {
  "kernelspec": {
   "display_name": "venv",
   "language": "python",
   "name": "python3"
  },
  "language_info": {
   "codemirror_mode": {
    "name": "ipython",
    "version": 3
   },
   "file_extension": ".py",
   "mimetype": "text/x-python",
   "name": "python",
   "nbconvert_exporter": "python",
   "pygments_lexer": "ipython3",
   "version": "3.10.0"
  },
  "orig_nbformat": 4,
  "vscode": {
   "interpreter": {
    "hash": "7afcb4a04d08665c2529ae0dc1d5ec01f94baaa4a57a18e0d9f75f04722700b7"
   }
  }
 },
 "nbformat": 4,
 "nbformat_minor": 2
}
